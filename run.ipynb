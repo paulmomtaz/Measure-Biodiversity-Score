{
 "cells": [
  {
   "cell_type": "markdown",
   "id": "5314f442",
   "metadata": {},
   "source": [
    "## 1 - Imports"
   ]
  },
  {
   "cell_type": "code",
   "execution_count": null,
   "id": "1d8ad70a",
   "metadata": {},
   "outputs": [],
   "source": [
    "import pandas as pd\n",
    "import global_options\n",
    "from nltk.tokenize import sent_tokenize\n",
    "from pathlib import Path\n",
    "import stanza\n",
    "from stanza.server import CoreNLPClient\n",
    "import os"
   ]
  },
  {
   "cell_type": "markdown",
   "id": "8da5a27b",
   "metadata": {},
   "source": [
    "## 2 - Data manipulation"
   ]
  },
  {
   "cell_type": "code",
   "execution_count": 2,
   "id": "2653c0c2",
   "metadata": {},
   "outputs": [],
   "source": [
    "data = pd.read_csv(Path(global_options.DATA_FOLDER, \"input\", \"cat-1.csv\"))\n",
    "\n",
    "# Remove duplicates\n",
    "data = data.drop_duplicates(subset = 'Article title')\n",
    "\n",
    "# Combine columns into 'full_text' and clean up quotation marks\n",
    "data['full_text'] = data['Article title'] + ' ' + data['Article authors'] + ' ' + data['Full article text']\n",
    "\n",
    "# Select the desired columns\n",
    "data = data[['full_text']]\n",
    "\n",
    "# Replace the newline operator as space\n",
    "data['full_text'] = data['full_text'].str.replace('\\n', ' ', regex = False)\n",
    "\n",
    "#\n",
    "data['index'] = range(1, len(data)+1)\n",
    "\n",
    "# Write to text files\n",
    "with open(Path(global_options.DATA_FOLDER, \"input\", \"documents.txt\"), \"w\") as file_docs:\n",
    "    for _, row in data.iterrows():\n",
    "        file_docs.write(f\"{row['full_text']}\\n\")\n",
    "        \n",
    "with open(Path(global_options.DATA_FOLDER, \"input\", \"document_ids.txt\"), \"w\") as file_docs:\n",
    "    for _, row in data.iterrows():\n",
    "        file_docs.write(f\"{row['index']}\\n\")"
   ]
  },
  {
   "cell_type": "markdown",
   "id": "81c860e9",
   "metadata": {},
   "source": [
    "## 3 - Run py files to expand the dictionary"
   ]
  },
  {
   "cell_type": "code",
   "execution_count": 6,
   "id": "13df9184",
   "metadata": {
    "scrolled": true
   },
   "outputs": [
    {
     "name": "stderr",
     "output_type": "stream",
     "text": [
      "2024-03-16 10:47:56 INFO: Writing properties to tmp file: corenlp_server-25fbad575db0453c.props\n",
      "2024-03-16 10:47:56 INFO: Starting server with command: java -Xmx8G -cp /Users/yuruchen/CoreNLP/* edu.stanford.nlp.pipeline.StanfordCoreNLPServer -port 9003 -timeout 12000000 -threads 8 -maxCharLength 1000000 -quiet False -serverProperties corenlp_server-25fbad575db0453c.props -preload -outputFormat serialized\n"
     ]
    },
    {
     "name": "stdout",
     "output_type": "stream",
     "text": [
      "2024-03-16 10:47:56.203613\n",
      "Processing line: 100.\n"
     ]
    },
    {
     "name": "stderr",
     "output_type": "stream",
     "text": [
      "[main] INFO CoreNLP - --- StanfordCoreNLPServer#main() called ---\n",
      "[main] INFO CoreNLP - Server default properties:\n",
      "\t\t\t(Note: unspecified annotator properties are English defaults)\n",
      "\t\t\tannotators = tokenize, ssplit, pos, lemma, ner, depparse\n",
      "\t\t\tinputFormat = text\n",
      "\t\t\tner.applyFineGrained = false\n",
      "\t\t\toutputFormat = serialized\n",
      "\t\t\tprettyPrint = false\n",
      "\t\t\tthreads = 8\n",
      "[main] INFO CoreNLP - Threads: 8\n",
      "[main] INFO edu.stanford.nlp.pipeline.StanfordCoreNLP - Adding annotator tokenize\n",
      "[main] INFO edu.stanford.nlp.pipeline.StanfordCoreNLP - Adding annotator pos\n",
      "[main] INFO edu.stanford.nlp.tagger.maxent.MaxentTagger - Loading POS tagger from edu/stanford/nlp/models/pos-tagger/english-left3words-distsim.tagger ... done [0.8 sec].\n",
      "[main] INFO edu.stanford.nlp.pipeline.StanfordCoreNLP - Adding annotator lemma\n",
      "[main] INFO edu.stanford.nlp.pipeline.StanfordCoreNLP - Adding annotator ner\n",
      "[main] INFO edu.stanford.nlp.ie.AbstractSequenceClassifier - Loading classifier from edu/stanford/nlp/models/ner/english.all.3class.distsim.crf.ser.gz ... done [1.4 sec].\n",
      "[main] INFO edu.stanford.nlp.ie.AbstractSequenceClassifier - Loading classifier from edu/stanford/nlp/models/ner/english.muc.7class.distsim.crf.ser.gz ... done [0.5 sec].\n",
      "[main] INFO edu.stanford.nlp.ie.AbstractSequenceClassifier - Loading classifier from edu/stanford/nlp/models/ner/english.conll.4class.distsim.crf.ser.gz ... done [0.6 sec].\n",
      "[main] INFO edu.stanford.nlp.time.JollyDayHolidays - Initializing JollyDayHoliday for SUTime from classpath edu/stanford/nlp/models/sutime/jollyday/Holidays_sutime.xml as sutime.binder.1.\n",
      "[main] INFO edu.stanford.nlp.time.TimeExpressionExtractorImpl - Using following SUTime rules: edu/stanford/nlp/models/sutime/defs.sutime.txt,edu/stanford/nlp/models/sutime/english.sutime.txt,edu/stanford/nlp/models/sutime/english.holidays.sutime.txt\n",
      "[main] INFO edu.stanford.nlp.pipeline.NERCombinerAnnotator - numeric classifiers: true; SUTime: true [no docDate]; fine grained: false\n",
      "[main] INFO edu.stanford.nlp.pipeline.StanfordCoreNLP - Adding annotator depparse\n",
      "[main] INFO edu.stanford.nlp.parser.nndep.DependencyParser - Loading depparse model: edu/stanford/nlp/models/parser/nndep/english_UD.gz ... Time elapsed: 1.9 sec\n",
      "[main] INFO edu.stanford.nlp.parser.nndep.Classifier - PreComputed 20000 vectors, elapsed Time: 0.977 sec\n",
      "[main] INFO edu.stanford.nlp.parser.nndep.DependencyParser - Initializing dependency parser ... done [2.9 sec].\n",
      "[main] INFO CoreNLP - Starting server...\n",
      "[main] INFO CoreNLP - StanfordCoreNLPServer listening at /0:0:0:0:0:0:0:0:9003\n"
     ]
    },
    {
     "name": "stdout",
     "output_type": "stream",
     "text": [
      "2024-03-16 10:50:24.880591\n",
      "Processing line: 200.\n",
      "2024-03-16 10:52:41.867479\n",
      "Processing line: 300.\n",
      "2024-03-16 10:54:36.678857\n",
      "Processing line: 400.\n",
      "2024-03-16 10:56:39.953159\n",
      "Processing line: 500.\n",
      "2024-03-16 10:58:35.075827\n",
      "Processing line: 600.\n",
      "2024-03-16 11:00:58.674102\n",
      "Processing line: 700.\n",
      "2024-03-16 11:03:07.051575\n",
      "Processing line: 800.\n",
      "2024-03-16 11:05:14.518816\n",
      "Processing line: 900.\n",
      "2024-03-16 11:07:07.357357\n",
      "Processing line: 1000.\n",
      "2024-03-16 11:09:13.899252\n",
      "Processing line: 1100.\n",
      "2024-03-16 11:11:25.429357\n",
      "Processing line: 1200.\n",
      "2024-03-16 11:13:39.651115\n",
      "Processing line: 1300.\n",
      "2024-03-16 11:15:47.228514\n",
      "Processing line: 1400.\n",
      "2024-03-16 11:17:53.393650\n",
      "Processing line: 1500.\n",
      "2024-03-16 11:19:55.368456\n",
      "Processing line: 1600.\n",
      "2024-03-16 11:22:08.439339\n",
      "Processing line: 1700.\n",
      "2024-03-16 11:24:29.696391\n",
      "Processing line: 1800.\n",
      "2024-03-16 11:26:53.855858\n",
      "Processing line: 1900.\n",
      "2024-03-16 11:29:00.690857\n",
      "Processing line: 2000.\n",
      "2024-03-16 11:31:13.401129\n",
      "Processing line: 2100.\n",
      "2024-03-16 11:33:49.486071\n",
      "Processing line: 2200.\n",
      "2024-03-16 11:35:45.239324\n",
      "Processing line: 2300.\n",
      "2024-03-16 11:37:40.177845\n",
      "Processing line: 2400.\n",
      "2024-03-16 11:40:05.864883\n",
      "Processing line: 2500.\n",
      "2024-03-16 11:42:02.441408\n",
      "Processing line: 2600.\n",
      "2024-03-16 11:44:15.264953\n",
      "Processing line: 2700.\n",
      "2024-03-16 11:46:16.625616\n",
      "Processing line: 2800.\n",
      "2024-03-16 11:48:13.086617\n",
      "Processing line: 2900.\n",
      "2024-03-16 11:49:55.585698\n",
      "Processing line: 3000.\n",
      "2024-03-16 11:51:45.745018\n",
      "Processing line: 3100.\n",
      "2024-03-16 11:53:28.811513\n",
      "Processing line: 3200.\n",
      "2024-03-16 11:55:24.414557\n",
      "Processing line: 3300.\n",
      "2024-03-16 11:58:01.559737\n",
      "Processing line: 3400.\n",
      "2024-03-16 12:00:56.507154\n",
      "Processing line: 3500.\n",
      "2024-03-16 12:03:13.814412\n",
      "Processing line: 3600.\n",
      "2024-03-16 12:04:52.252953\n",
      "Processing line: 3700.\n",
      "2024-03-16 12:06:41.455289\n",
      "Processing line: 3800.\n",
      "2024-03-16 12:08:22.274208\n",
      "Processing line: 3900.\n",
      "2024-03-16 12:09:59.442267\n",
      "Processing line: 4000.\n",
      "2024-03-16 12:11:45.211378\n",
      "Processing line: 4100.\n",
      "2024-03-16 12:13:53.142577\n",
      "Processing line: 4200.\n",
      "2024-03-16 12:16:01.297523\n",
      "Processing line: 4300.\n",
      "2024-03-16 12:17:58.934620\n",
      "Processing line: 4400.\n",
      "2024-03-16 12:20:03.426558\n",
      "Processing line: 4500.\n",
      "2024-03-16 12:21:51.426507\n",
      "Processing line: 4600.\n",
      "2024-03-16 12:23:34.293234\n",
      "Processing line: 4700.\n",
      "2024-03-16 12:24:57.105808\n",
      "Processing line: 4800.\n",
      "2024-03-16 12:26:18.265935\n",
      "Processing line: 4900.\n",
      "2024-03-16 12:27:44.678733\n",
      "Processing line: 5000.\n",
      "2024-03-16 12:29:09.245598\n",
      "Processing line: 5100.\n",
      "2024-03-16 12:30:45.634130\n",
      "Processing line: 5200.\n",
      "2024-03-16 12:32:26.380526\n",
      "Processing line: 5300.\n",
      "2024-03-16 12:34:36.510517\n",
      "Processing line: 5400.\n",
      "2024-03-16 12:36:53.335862\n",
      "Processing line: 5500.\n",
      "2024-03-16 12:39:01.987361\n",
      "Processing line: 5600.\n",
      "2024-03-16 12:41:03.941930\n",
      "Processing line: 5700.\n",
      "2024-03-16 12:42:49.630263\n",
      "Processing line: 5800.\n",
      "2024-03-16 12:44:50.029557\n",
      "Processing line: 5900.\n",
      "2024-03-16 12:46:47.769168\n",
      "Processing line: 6000.\n",
      "2024-03-16 12:49:01.704850\n",
      "Processing line: 6100.\n",
      "2024-03-16 12:51:01.030933\n",
      "Processing line: 6200.\n"
     ]
    },
    {
     "name": "stderr",
     "output_type": "stream",
     "text": [
      "[Thread-0] INFO CoreNLP - CoreNLP Server is shutting down.\n"
     ]
    }
   ],
   "source": [
    "%run parse_parallel.py"
   ]
  },
  {
   "cell_type": "code",
   "execution_count": 3,
   "id": "73282975",
   "metadata": {},
   "outputs": [
    {
     "name": "stdout",
     "output_type": "stream",
     "text": [
      "2024-03-16 12:52:59.124269\n",
      "Processing line: 200000.\n",
      "2024-03-16 12:53:06.490929\n",
      "Processing line: 400000.\n",
      "2024-03-16 12:53:11.486978\n",
      "Training phraser...\n",
      "DEBUG:gensim.models.word2vec:single file given as source, rather than a directory of files\n",
      "DEBUG:gensim.models.word2vec:consider using models.word2vec.LineSentence for a single file\n",
      "INFO:gensim.models.word2vec:files read into PathLineSentences:data/processed/unigram/documents.txt\n"
     ]
    },
    {
     "name": "stderr",
     "output_type": "stream",
     "text": [
      "\r",
      "  0%|                                                | 0/335476 [00:00<?, ?it/s]"
     ]
    },
    {
     "name": "stdout",
     "output_type": "stream",
     "text": [
      "INFO:gensim.models.phrases:collecting all words and their counts\n",
      "INFO:gensim.models.word2vec:reading file data/processed/unigram/documents.txt\n",
      "DEBUG:smart_open.smart_open_lib:{'uri': 'data/processed/unigram/documents.txt', 'mode': 'rb', 'buffering': -1, 'encoding': None, 'errors': None, 'newline': None, 'closefd': True, 'opener': None, 'compression': 'infer_from_extension', 'transport_params': None}\n",
      "INFO:gensim.models.phrases:PROGRESS: at sentence #0, processed 0 words and 0 word types\n"
     ]
    },
    {
     "name": "stderr",
     "output_type": "stream",
     "text": [
      "\r",
      "  2%|▋                                 | 6859/335476 [00:00<00:04, 68574.37it/s]"
     ]
    },
    {
     "name": "stdout",
     "output_type": "stream",
     "text": [
      "INFO:gensim.models.phrases:PROGRESS: at sentence #10000, processed 117543 words and 99576 word types\n"
     ]
    },
    {
     "name": "stderr",
     "output_type": "stream",
     "text": [
      "\r",
      "  4%|█▎                               | 13798/335476 [00:00<00:04, 69050.47it/s]"
     ]
    },
    {
     "name": "stdout",
     "output_type": "stream",
     "text": [
      "INFO:gensim.models.phrases:PROGRESS: at sentence #20000, processed 230331 words and 180340 word types\n"
     ]
    },
    {
     "name": "stderr",
     "output_type": "stream",
     "text": [
      "  8%|██▊                              | 27985/335476 [00:00<00:04, 70439.81it/s]"
     ]
    },
    {
     "name": "stdout",
     "output_type": "stream",
     "text": [
      "INFO:gensim.models.phrases:PROGRESS: at sentence #30000, processed 342257 words and 252140 word types\n"
     ]
    },
    {
     "name": "stderr",
     "output_type": "stream",
     "text": [
      "\r",
      " 11%|███▌                             | 35712/335476 [00:00<00:04, 72898.35it/s]"
     ]
    },
    {
     "name": "stdout",
     "output_type": "stream",
     "text": [
      "INFO:gensim.models.phrases:PROGRESS: at sentence #40000, processed 451055 words and 317904 word types\n"
     ]
    },
    {
     "name": "stderr",
     "output_type": "stream",
     "text": [
      "\r",
      " 13%|████▏                            | 43002/335476 [00:00<00:04, 71011.78it/s]"
     ]
    },
    {
     "name": "stdout",
     "output_type": "stream",
     "text": [
      "INFO:gensim.models.phrases:PROGRESS: at sentence #50000, processed 564270 words and 383988 word types\n"
     ]
    },
    {
     "name": "stderr",
     "output_type": "stream",
     "text": [
      " 17%|█████▌                           | 57028/335476 [00:00<00:04, 68562.27it/s]"
     ]
    },
    {
     "name": "stdout",
     "output_type": "stream",
     "text": [
      "INFO:gensim.models.phrases:PROGRESS: at sentence #60000, processed 678940 words and 450835 word types\n"
     ]
    },
    {
     "name": "stderr",
     "output_type": "stream",
     "text": [
      "\r",
      " 19%|██████▎                          | 63977/335476 [00:00<00:03, 68839.95it/s]"
     ]
    },
    {
     "name": "stdout",
     "output_type": "stream",
     "text": [
      "INFO:gensim.models.phrases:PROGRESS: at sentence #70000, processed 792329 words and 515916 word types\n"
     ]
    },
    {
     "name": "stderr",
     "output_type": "stream",
     "text": [
      " 23%|███████▋                         | 77668/335476 [00:01<00:03, 67521.00it/s]"
     ]
    },
    {
     "name": "stdout",
     "output_type": "stream",
     "text": [
      "INFO:gensim.models.phrases:PROGRESS: at sentence #80000, processed 906385 words and 578838 word types\n"
     ]
    },
    {
     "name": "stderr",
     "output_type": "stream",
     "text": [
      "\r",
      " 25%|████████▎                        | 84463/335476 [00:01<00:03, 67646.31it/s]"
     ]
    },
    {
     "name": "stdout",
     "output_type": "stream",
     "text": [
      "INFO:gensim.models.phrases:PROGRESS: at sentence #90000, processed 1021351 words and 642130 word types\n"
     ]
    },
    {
     "name": "stderr",
     "output_type": "stream",
     "text": [
      " 29%|█████████▋                       | 98090/335476 [00:01<00:03, 67497.60it/s]"
     ]
    },
    {
     "name": "stdout",
     "output_type": "stream",
     "text": [
      "INFO:gensim.models.phrases:PROGRESS: at sentence #100000, processed 1130976 words and 701045 word types\n"
     ]
    },
    {
     "name": "stderr",
     "output_type": "stream",
     "text": [
      "\r",
      " 31%|██████████                      | 104843/335476 [00:01<00:03, 64041.15it/s]"
     ]
    },
    {
     "name": "stdout",
     "output_type": "stream",
     "text": [
      "INFO:gensim.models.phrases:PROGRESS: at sentence #110000, processed 1236671 words and 756487 word types\n"
     ]
    },
    {
     "name": "stderr",
     "output_type": "stream",
     "text": [
      " 35%|███████████▎                    | 119053/335476 [00:01<00:03, 67711.25it/s]"
     ]
    },
    {
     "name": "stdout",
     "output_type": "stream",
     "text": [
      "INFO:gensim.models.phrases:PROGRESS: at sentence #120000, processed 1340110 words and 807711 word types\n"
     ]
    },
    {
     "name": "stderr",
     "output_type": "stream",
     "text": [
      "\r",
      " 38%|████████████                    | 126100/335476 [00:01<00:03, 68520.77it/s]"
     ]
    },
    {
     "name": "stdout",
     "output_type": "stream",
     "text": [
      "INFO:gensim.models.phrases:PROGRESS: at sentence #130000, processed 1448347 words and 860168 word types\n"
     ]
    },
    {
     "name": "stderr",
     "output_type": "stream",
     "text": [
      " 42%|█████████████▎                  | 139837/335476 [00:02<00:02, 67723.75it/s]"
     ]
    },
    {
     "name": "stdout",
     "output_type": "stream",
     "text": [
      "INFO:gensim.models.phrases:PROGRESS: at sentence #140000, processed 1559257 words and 914180 word types\n"
     ]
    },
    {
     "name": "stderr",
     "output_type": "stream",
     "text": [
      "\r",
      " 44%|██████████████                  | 146810/335476 [00:02<00:02, 68312.69it/s]"
     ]
    },
    {
     "name": "stdout",
     "output_type": "stream",
     "text": [
      "INFO:gensim.models.phrases:PROGRESS: at sentence #150000, processed 1667932 words and 968521 word types\n"
     ]
    },
    {
     "name": "stderr",
     "output_type": "stream",
     "text": [
      "\r",
      " 46%|██████████████▋                 | 153651/335476 [00:02<00:02, 67646.76it/s]"
     ]
    },
    {
     "name": "stdout",
     "output_type": "stream",
     "text": [
      "INFO:gensim.models.phrases:PROGRESS: at sentence #160000, processed 1775015 words and 1023744 word types\n"
     ]
    },
    {
     "name": "stderr",
     "output_type": "stream",
     "text": [
      " 50%|███████████████▉                | 167298/335476 [00:02<00:02, 67526.20it/s]"
     ]
    },
    {
     "name": "stdout",
     "output_type": "stream",
     "text": [
      "INFO:gensim.models.phrases:PROGRESS: at sentence #170000, processed 1884040 words and 1081229 word types\n"
     ]
    },
    {
     "name": "stderr",
     "output_type": "stream",
     "text": [
      "\r",
      " 52%|████████████████▌               | 174140/335476 [00:02<00:02, 67789.22it/s]"
     ]
    },
    {
     "name": "stdout",
     "output_type": "stream",
     "text": [
      "INFO:gensim.models.phrases:PROGRESS: at sentence #180000, processed 1987716 words and 1129288 word types\n"
     ]
    },
    {
     "name": "stderr",
     "output_type": "stream",
     "text": [
      " 56%|█████████████████▉              | 188181/335476 [00:02<00:02, 68243.23it/s]"
     ]
    },
    {
     "name": "stdout",
     "output_type": "stream",
     "text": [
      "INFO:gensim.models.phrases:PROGRESS: at sentence #190000, processed 2098246 words and 1177323 word types\n"
     ]
    },
    {
     "name": "stderr",
     "output_type": "stream",
     "text": [
      "\r",
      " 58%|██████████████████▌             | 195009/335476 [00:02<00:02, 67546.64it/s]"
     ]
    },
    {
     "name": "stdout",
     "output_type": "stream",
     "text": [
      "INFO:gensim.models.phrases:PROGRESS: at sentence #200000, processed 2206323 words and 1222175 word types\n"
     ]
    },
    {
     "name": "stderr",
     "output_type": "stream",
     "text": [
      " 62%|███████████████████▉            | 208719/335476 [00:03<00:01, 67973.54it/s]"
     ]
    },
    {
     "name": "stdout",
     "output_type": "stream",
     "text": [
      "INFO:gensim.models.phrases:PROGRESS: at sentence #210000, processed 2312976 words and 1265111 word types\n"
     ]
    },
    {
     "name": "stderr",
     "output_type": "stream",
     "text": [
      "\r",
      " 64%|████████████████████▌           | 215519/335476 [00:03<00:01, 67176.41it/s]"
     ]
    },
    {
     "name": "stdout",
     "output_type": "stream",
     "text": [
      "INFO:gensim.models.phrases:PROGRESS: at sentence #220000, processed 2423795 words and 1313026 word types\n"
     ]
    },
    {
     "name": "stderr",
     "output_type": "stream",
     "text": [
      " 68%|█████████████████████▊          | 228933/335476 [00:03<00:01, 66637.04it/s]"
     ]
    },
    {
     "name": "stdout",
     "output_type": "stream",
     "text": [
      "INFO:gensim.models.phrases:PROGRESS: at sentence #230000, processed 2532084 words and 1365995 word types\n"
     ]
    },
    {
     "name": "stderr",
     "output_type": "stream",
     "text": [
      "\r",
      " 70%|██████████████████████▍         | 235787/335476 [00:03<00:01, 67200.25it/s]"
     ]
    },
    {
     "name": "stdout",
     "output_type": "stream",
     "text": [
      "INFO:gensim.models.phrases:PROGRESS: at sentence #240000, processed 2638922 words and 1417306 word types\n"
     ]
    },
    {
     "name": "stderr",
     "output_type": "stream",
     "text": [
      " 74%|███████████████████████▋        | 248876/335476 [00:03<00:01, 59786.30it/s]"
     ]
    },
    {
     "name": "stdout",
     "output_type": "stream",
     "text": [
      "INFO:gensim.models.phrases:PROGRESS: at sentence #250000, processed 2753087 words and 1470334 word types\n"
     ]
    },
    {
     "name": "stderr",
     "output_type": "stream",
     "text": [
      "\r",
      " 76%|████████████████████████▎       | 255043/335476 [00:03<00:01, 60307.85it/s]"
     ]
    },
    {
     "name": "stdout",
     "output_type": "stream",
     "text": [
      "INFO:gensim.models.phrases:PROGRESS: at sentence #260000, processed 2872431 words and 1513387 word types\n"
     ]
    },
    {
     "name": "stderr",
     "output_type": "stream",
     "text": [
      " 80%|█████████████████████████▍      | 267331/335476 [00:04<00:01, 60124.58it/s]"
     ]
    },
    {
     "name": "stdout",
     "output_type": "stream",
     "text": [
      "INFO:gensim.models.phrases:PROGRESS: at sentence #270000, processed 2989185 words and 1554561 word types\n"
     ]
    },
    {
     "name": "stderr",
     "output_type": "stream",
     "text": [
      "\r",
      " 82%|██████████████████████████▏     | 274167/335476 [00:04<00:00, 62507.47it/s]"
     ]
    },
    {
     "name": "stdout",
     "output_type": "stream",
     "text": [
      "INFO:gensim.models.phrases:PROGRESS: at sentence #280000, processed 3089565 words and 1600422 word types\n"
     ]
    },
    {
     "name": "stderr",
     "output_type": "stream",
     "text": [
      " 86%|███████████████████████████▌    | 288366/335476 [00:04<00:00, 66744.14it/s]"
     ]
    },
    {
     "name": "stdout",
     "output_type": "stream",
     "text": [
      "INFO:gensim.models.phrases:PROGRESS: at sentence #290000, processed 3187938 words and 1647586 word types\n"
     ]
    },
    {
     "name": "stderr",
     "output_type": "stream",
     "text": [
      "\r",
      " 88%|████████████████████████████▏   | 295142/335476 [00:04<00:00, 67041.72it/s]"
     ]
    },
    {
     "name": "stdout",
     "output_type": "stream",
     "text": [
      "INFO:gensim.models.phrases:PROGRESS: at sentence #300000, processed 3294515 words and 1699618 word types\n"
     ]
    },
    {
     "name": "stderr",
     "output_type": "stream",
     "text": [
      " 92%|█████████████████████████████▍  | 308631/335476 [00:04<00:00, 67238.92it/s]"
     ]
    },
    {
     "name": "stdout",
     "output_type": "stream",
     "text": [
      "INFO:gensim.models.phrases:PROGRESS: at sentence #310000, processed 3401791 words and 1749464 word types\n"
     ]
    },
    {
     "name": "stderr",
     "output_type": "stream",
     "text": [
      "\r",
      " 94%|██████████████████████████████  | 315367/335476 [00:04<00:00, 66689.81it/s]"
     ]
    },
    {
     "name": "stdout",
     "output_type": "stream",
     "text": [
      "INFO:gensim.models.phrases:PROGRESS: at sentence #320000, processed 3509334 words and 1796084 word types\n"
     ]
    },
    {
     "name": "stderr",
     "output_type": "stream",
     "text": [
      " 98%|███████████████████████████████▎| 327722/335476 [00:04<00:00, 66604.18it/s]"
     ]
    },
    {
     "name": "stdout",
     "output_type": "stream",
     "text": [
      "INFO:gensim.models.phrases:collected 1832234 word types from a corpus of 3591847 words (unigram + bigrams) and 327722 sentences\n",
      "INFO:gensim.models.phrases:using 1832234 counts as vocab in Phrases<0 vocab, min_count=10, threshold=10, max_vocab_size=40000000>\n",
      "INFO:gensim.utils:saving Phrases object under models/phrases/bigram.mod, separately None\n",
      "DEBUG:smart_open.smart_open_lib:{'uri': 'models/phrases/bigram.mod', 'mode': 'wb', 'buffering': -1, 'encoding': None, 'errors': None, 'newline': None, 'closefd': True, 'opener': None, 'compression': 'infer_from_extension', 'transport_params': None}\n"
     ]
    },
    {
     "name": "stderr",
     "output_type": "stream",
     "text": [
      "\n"
     ]
    },
    {
     "name": "stdout",
     "output_type": "stream",
     "text": [
      "INFO:gensim.utils:saved models/phrases/bigram.mod\n",
      "INFO:gensim.utils:loading Phrases object from models/phrases/bigram.mod\n",
      "DEBUG:smart_open.smart_open_lib:{'uri': 'models/phrases/bigram.mod', 'mode': 'rb', 'buffering': -1, 'encoding': None, 'errors': None, 'newline': None, 'closefd': True, 'opener': None, 'compression': 'infer_from_extension', 'transport_params': None}\n",
      "INFO:gensim.utils:loaded models/phrases/bigram.mod\n"
     ]
    },
    {
     "name": "stderr",
     "output_type": "stream",
     "text": [
      "100%|████████████████████████████████| 335476/335476 [00:09<00:00, 35993.29it/s]\n"
     ]
    },
    {
     "name": "stdout",
     "output_type": "stream",
     "text": [
      "2024-03-16 12:53:28.986403\n",
      "Training phraser...\n",
      "DEBUG:gensim.models.word2vec:single file given as source, rather than a directory of files\n",
      "DEBUG:gensim.models.word2vec:consider using models.word2vec.LineSentence for a single file\n",
      "INFO:gensim.models.word2vec:files read into PathLineSentences:data/processed/bigram/documents.txt\n"
     ]
    },
    {
     "name": "stderr",
     "output_type": "stream",
     "text": [
      "\r",
      "  0%|                                                | 0/335476 [00:00<?, ?it/s]"
     ]
    },
    {
     "name": "stdout",
     "output_type": "stream",
     "text": [
      "INFO:gensim.models.phrases:collecting all words and their counts\n",
      "INFO:gensim.models.word2vec:reading file data/processed/bigram/documents.txt\n",
      "DEBUG:smart_open.smart_open_lib:{'uri': 'data/processed/bigram/documents.txt', 'mode': 'rb', 'buffering': -1, 'encoding': None, 'errors': None, 'newline': None, 'closefd': True, 'opener': None, 'compression': 'infer_from_extension', 'transport_params': None}\n",
      "INFO:gensim.models.phrases:PROGRESS: at sentence #0, processed 0 words and 0 word types\n"
     ]
    },
    {
     "name": "stderr",
     "output_type": "stream",
     "text": [
      "\r",
      "  2%|▊                                 | 7629/335476 [00:00<00:04, 76276.43it/s]"
     ]
    },
    {
     "name": "stdout",
     "output_type": "stream",
     "text": [
      "INFO:gensim.models.phrases:PROGRESS: at sentence #10000, processed 111372 words and 101025 word types\n"
     ]
    },
    {
     "name": "stderr",
     "output_type": "stream",
     "text": [
      "\r",
      "  5%|█▌                               | 15257/335476 [00:00<00:04, 76256.54it/s]"
     ]
    },
    {
     "name": "stdout",
     "output_type": "stream",
     "text": [
      "INFO:gensim.models.phrases:PROGRESS: at sentence #20000, processed 218897 words and 183837 word types\n"
     ]
    },
    {
     "name": "stderr",
     "output_type": "stream",
     "text": [
      "\r",
      "  7%|██▎                              | 22989/335476 [00:00<00:04, 76737.82it/s]"
     ]
    },
    {
     "name": "stdout",
     "output_type": "stream",
     "text": [
      "INFO:gensim.models.phrases:PROGRESS: at sentence #30000, processed 325054 words and 258103 word types\n"
     ]
    },
    {
     "name": "stderr",
     "output_type": "stream",
     "text": [
      " 12%|███▊                             | 38774/335476 [00:00<00:03, 78181.49it/s]"
     ]
    },
    {
     "name": "stdout",
     "output_type": "stream",
     "text": [
      "INFO:gensim.models.phrases:PROGRESS: at sentence #40000, processed 428295 words and 326146 word types\n"
     ]
    },
    {
     "name": "stderr",
     "output_type": "stream",
     "text": [
      "\r",
      " 14%|████▌                            | 46593/335476 [00:00<00:03, 75227.90it/s]"
     ]
    },
    {
     "name": "stdout",
     "output_type": "stream",
     "text": [
      "INFO:gensim.models.phrases:PROGRESS: at sentence #50000, processed 535899 words and 394692 word types\n"
     ]
    },
    {
     "name": "stderr",
     "output_type": "stream",
     "text": [
      "\r",
      " 16%|█████▎                           | 54136/335476 [00:00<00:03, 73621.45it/s]"
     ]
    },
    {
     "name": "stdout",
     "output_type": "stream",
     "text": [
      "INFO:gensim.models.phrases:PROGRESS: at sentence #60000, processed 645851 words and 463823 word types\n"
     ]
    },
    {
     "name": "stderr",
     "output_type": "stream",
     "text": [
      " 21%|██████▊                          | 68840/335476 [00:00<00:03, 73134.34it/s]"
     ]
    },
    {
     "name": "stdout",
     "output_type": "stream",
     "text": [
      "INFO:gensim.models.phrases:PROGRESS: at sentence #70000, processed 754566 words and 530985 word types\n"
     ]
    },
    {
     "name": "stderr",
     "output_type": "stream",
     "text": [
      "\r",
      " 23%|███████▍                         | 76161/335476 [00:01<00:03, 72706.82it/s]"
     ]
    },
    {
     "name": "stdout",
     "output_type": "stream",
     "text": [
      "INFO:gensim.models.phrases:PROGRESS: at sentence #80000, processed 863706 words and 596178 word types\n"
     ]
    },
    {
     "name": "stderr",
     "output_type": "stream",
     "text": [
      "\r",
      " 25%|████████▏                        | 83437/335476 [00:01<00:03, 71886.05it/s]"
     ]
    },
    {
     "name": "stdout",
     "output_type": "stream",
     "text": [
      "INFO:gensim.models.phrases:PROGRESS: at sentence #90000, processed 973771 words and 661852 word types\n"
     ]
    },
    {
     "name": "stderr",
     "output_type": "stream",
     "text": [
      " 29%|█████████▌                       | 97771/335476 [00:01<00:03, 69964.51it/s]"
     ]
    },
    {
     "name": "stdout",
     "output_type": "stream",
     "text": [
      "INFO:gensim.models.phrases:PROGRESS: at sentence #100000, processed 1079227 words and 722807 word types\n"
     ]
    },
    {
     "name": "stderr",
     "output_type": "stream",
     "text": [
      "\r",
      " 31%|██████████                      | 105339/335476 [00:01<00:03, 71639.98it/s]"
     ]
    },
    {
     "name": "stdout",
     "output_type": "stream",
     "text": [
      "INFO:gensim.models.phrases:PROGRESS: at sentence #110000, processed 1180698 words and 780389 word types\n"
     ]
    },
    {
     "name": "stderr",
     "output_type": "stream",
     "text": [
      "\r",
      " 34%|██████████▋                     | 112512/335476 [00:01<00:03, 71094.61it/s]"
     ]
    },
    {
     "name": "stdout",
     "output_type": "stream",
     "text": [
      "INFO:gensim.models.phrases:PROGRESS: at sentence #120000, processed 1280027 words and 833662 word types\n"
     ]
    },
    {
     "name": "stderr",
     "output_type": "stream",
     "text": [
      " 38%|████████████▏                   | 127574/335476 [00:01<00:02, 72653.12it/s]"
     ]
    },
    {
     "name": "stdout",
     "output_type": "stream",
     "text": [
      "INFO:gensim.models.phrases:PROGRESS: at sentence #130000, processed 1383883 words and 888282 word types\n"
     ]
    },
    {
     "name": "stderr",
     "output_type": "stream",
     "text": [
      "\r",
      " 40%|████████████▉                   | 135002/335476 [00:01<00:02, 73133.21it/s]"
     ]
    },
    {
     "name": "stdout",
     "output_type": "stream",
     "text": [
      "INFO:gensim.models.phrases:PROGRESS: at sentence #140000, processed 1490328 words and 944563 word types\n"
     ]
    },
    {
     "name": "stderr",
     "output_type": "stream",
     "text": [
      " 45%|██████████████▎                 | 149470/335476 [00:02<00:02, 71309.88it/s]"
     ]
    },
    {
     "name": "stdout",
     "output_type": "stream",
     "text": [
      "INFO:gensim.models.phrases:PROGRESS: at sentence #150000, processed 1594599 words and 1001012 word types\n"
     ]
    },
    {
     "name": "stderr",
     "output_type": "stream",
     "text": [
      "\r",
      " 47%|██████████████▉                 | 156609/335476 [00:02<00:02, 70989.57it/s]"
     ]
    },
    {
     "name": "stdout",
     "output_type": "stream",
     "text": [
      "INFO:gensim.models.phrases:PROGRESS: at sentence #160000, processed 1697955 words and 1058194 word types\n"
     ]
    },
    {
     "name": "stderr",
     "output_type": "stream",
     "text": [
      "\r",
      " 49%|███████████████▌                | 163714/335476 [00:02<00:02, 70609.63it/s]"
     ]
    },
    {
     "name": "stdout",
     "output_type": "stream",
     "text": [
      "INFO:gensim.models.phrases:PROGRESS: at sentence #170000, processed 1803589 words and 1117522 word types\n"
     ]
    },
    {
     "name": "stderr",
     "output_type": "stream",
     "text": [
      " 53%|████████████████▉               | 178157/335476 [00:02<00:02, 71442.16it/s]"
     ]
    },
    {
     "name": "stdout",
     "output_type": "stream",
     "text": [
      "INFO:gensim.models.phrases:PROGRESS: at sentence #180000, processed 1902572 words and 1167901 word types\n"
     ]
    },
    {
     "name": "stderr",
     "output_type": "stream",
     "text": [
      "\r",
      " 55%|█████████████████▋              | 185304/335476 [00:02<00:02, 70845.33it/s]"
     ]
    },
    {
     "name": "stdout",
     "output_type": "stream",
     "text": [
      "INFO:gensim.models.phrases:PROGRESS: at sentence #190000, processed 2007625 words and 1218434 word types\n"
     ]
    },
    {
     "name": "stderr",
     "output_type": "stream",
     "text": [
      " 60%|███████████████████             | 199702/335476 [00:02<00:01, 71424.58it/s]"
     ]
    },
    {
     "name": "stdout",
     "output_type": "stream",
     "text": [
      "INFO:gensim.models.phrases:PROGRESS: at sentence #200000, processed 2109923 words and 1266088 word types\n"
     ]
    },
    {
     "name": "stderr",
     "output_type": "stream",
     "text": [
      "\r",
      " 62%|███████████████████▋            | 206847/335476 [00:02<00:01, 71036.83it/s]"
     ]
    },
    {
     "name": "stdout",
     "output_type": "stream",
     "text": [
      "INFO:gensim.models.phrases:PROGRESS: at sentence #210000, processed 2210968 words and 1311427 word types\n"
     ]
    },
    {
     "name": "stderr",
     "output_type": "stream",
     "text": [
      "\r",
      " 64%|████████████████████▍           | 213953/335476 [00:02<00:01, 70988.39it/s]"
     ]
    },
    {
     "name": "stdout",
     "output_type": "stream",
     "text": [
      "INFO:gensim.models.phrases:PROGRESS: at sentence #220000, processed 2316260 words and 1361914 word types\n"
     ]
    },
    {
     "name": "stderr",
     "output_type": "stream",
     "text": [
      " 68%|█████████████████████▊          | 228112/335476 [00:03<00:01, 66282.32it/s]"
     ]
    },
    {
     "name": "stdout",
     "output_type": "stream",
     "text": [
      "INFO:gensim.models.phrases:PROGRESS: at sentence #230000, processed 2420406 words and 1416783 word types\n"
     ]
    },
    {
     "name": "stderr",
     "output_type": "stream",
     "text": [
      "\r",
      " 70%|██████████████████████▍         | 235258/335476 [00:03<00:01, 67755.96it/s]"
     ]
    },
    {
     "name": "stdout",
     "output_type": "stream",
     "text": [
      "INFO:gensim.models.phrases:PROGRESS: at sentence #240000, processed 2523423 words and 1470034 word types\n"
     ]
    },
    {
     "name": "stderr",
     "output_type": "stream",
     "text": [
      " 74%|███████████████████████▋        | 248885/335476 [00:03<00:01, 67516.28it/s]"
     ]
    },
    {
     "name": "stdout",
     "output_type": "stream",
     "text": [
      "INFO:gensim.models.phrases:PROGRESS: at sentence #250000, processed 2633571 words and 1525298 word types\n"
     ]
    },
    {
     "name": "stderr",
     "output_type": "stream",
     "text": [
      "\r",
      " 76%|████████████████████████▍       | 255658/335476 [00:03<00:01, 66958.62it/s]"
     ]
    },
    {
     "name": "stdout",
     "output_type": "stream",
     "text": [
      "INFO:gensim.models.phrases:PROGRESS: at sentence #260000, processed 2746914 words and 1571092 word types\n"
     ]
    },
    {
     "name": "stderr",
     "output_type": "stream",
     "text": [
      " 80%|█████████████████████████▋      | 269095/335476 [00:03<00:00, 66518.53it/s]"
     ]
    },
    {
     "name": "stdout",
     "output_type": "stream",
     "text": [
      "INFO:gensim.models.phrases:PROGRESS: at sentence #270000, processed 2857273 words and 1615174 word types\n"
     ]
    },
    {
     "name": "stderr",
     "output_type": "stream",
     "text": [
      "\r",
      " 82%|██████████████████████████▎     | 276396/335476 [00:03<00:00, 68430.65it/s]"
     ]
    },
    {
     "name": "stdout",
     "output_type": "stream",
     "text": [
      "INFO:gensim.models.phrases:PROGRESS: at sentence #280000, processed 2953988 words and 1662815 word types\n"
     ]
    },
    {
     "name": "stderr",
     "output_type": "stream",
     "text": [
      "\r",
      " 85%|███████████████████████████     | 283941/335476 [00:03<00:00, 70508.45it/s]"
     ]
    },
    {
     "name": "stdout",
     "output_type": "stream",
     "text": [
      "INFO:gensim.models.phrases:PROGRESS: at sentence #290000, processed 3049257 words and 1711519 word types\n"
     ]
    },
    {
     "name": "stderr",
     "output_type": "stream",
     "text": [
      " 89%|████████████████████████████▍   | 298641/335476 [00:04<00:00, 71001.77it/s]"
     ]
    },
    {
     "name": "stdout",
     "output_type": "stream",
     "text": [
      "INFO:gensim.models.phrases:PROGRESS: at sentence #300000, processed 3152409 words and 1765287 word types\n"
     ]
    },
    {
     "name": "stderr",
     "output_type": "stream",
     "text": [
      "\r",
      " 91%|█████████████████████████████▏  | 305749/335476 [00:04<00:00, 70519.24it/s]"
     ]
    },
    {
     "name": "stdout",
     "output_type": "stream",
     "text": [
      "INFO:gensim.models.phrases:PROGRESS: at sentence #310000, processed 3255879 words and 1816948 word types\n"
     ]
    },
    {
     "name": "stderr",
     "output_type": "stream",
     "text": [
      " 95%|██████████████████████████████▌ | 319806/335476 [00:04<00:00, 69194.31it/s]"
     ]
    },
    {
     "name": "stdout",
     "output_type": "stream",
     "text": [
      "INFO:gensim.models.phrases:PROGRESS: at sentence #320000, processed 3359202 words and 1865572 word types\n"
     ]
    },
    {
     "name": "stderr",
     "output_type": "stream",
     "text": [
      " 98%|███████████████████████████████▎| 327722/335476 [00:04<00:00, 70920.99it/s]"
     ]
    },
    {
     "name": "stdout",
     "output_type": "stream",
     "text": [
      "INFO:gensim.models.phrases:collected 1903345 word types from a corpus of 3438588 words (unigram + bigrams) and 327722 sentences\n",
      "INFO:gensim.models.phrases:using 1903345 counts as vocab in Phrases<0 vocab, min_count=10, threshold=10, max_vocab_size=40000000>\n",
      "INFO:gensim.utils:saving Phrases object under models/phrases/trigram.mod, separately None\n",
      "DEBUG:smart_open.smart_open_lib:{'uri': 'models/phrases/trigram.mod', 'mode': 'wb', 'buffering': -1, 'encoding': None, 'errors': None, 'newline': None, 'closefd': True, 'opener': None, 'compression': 'infer_from_extension', 'transport_params': None}\n"
     ]
    },
    {
     "name": "stderr",
     "output_type": "stream",
     "text": [
      "\n"
     ]
    },
    {
     "name": "stdout",
     "output_type": "stream",
     "text": [
      "INFO:gensim.utils:saved models/phrases/trigram.mod\n",
      "INFO:gensim.utils:loading Phrases object from models/phrases/trigram.mod\n",
      "DEBUG:smart_open.smart_open_lib:{'uri': 'models/phrases/trigram.mod', 'mode': 'rb', 'buffering': -1, 'encoding': None, 'errors': None, 'newline': None, 'closefd': True, 'opener': None, 'compression': 'infer_from_extension', 'transport_params': None}\n",
      "INFO:gensim.utils:loaded models/phrases/trigram.mod\n"
     ]
    },
    {
     "name": "stderr",
     "output_type": "stream",
     "text": [
      "100%|████████████████████████████████| 335476/335476 [00:09<00:00, 36326.20it/s]\n"
     ]
    },
    {
     "name": "stdout",
     "output_type": "stream",
     "text": [
      "2024-03-16 12:53:46.572869\n",
      "Training w2v model...\n",
      "DEBUG:gensim.models.word2vec:single file given as source, rather than a directory of files\n",
      "DEBUG:gensim.models.word2vec:consider using models.word2vec.LineSentence for a single file\n",
      "INFO:gensim.models.word2vec:files read into PathLineSentences:data/processed/trigram/documents.txt\n",
      "INFO:gensim.models.word2vec:collecting all words and their counts\n",
      "INFO:gensim.models.word2vec:reading file data/processed/trigram/documents.txt\n",
      "DEBUG:smart_open.smart_open_lib:{'uri': 'data/processed/trigram/documents.txt', 'mode': 'rb', 'buffering': -1, 'encoding': None, 'errors': None, 'newline': None, 'closefd': True, 'opener': None, 'compression': 'infer_from_extension', 'transport_params': None}\n",
      "INFO:gensim.models.word2vec:PROGRESS: at sentence #0, processed 0 words, keeping 0 word types\n",
      "INFO:gensim.models.word2vec:PROGRESS: at sentence #10000, processed 109969 words, keeping 18669 word types\n",
      "INFO:gensim.models.word2vec:PROGRESS: at sentence #20000, processed 216421 words, keeping 28952 word types\n",
      "INFO:gensim.models.word2vec:PROGRESS: at sentence #30000, processed 321234 words, keeping 37023 word types\n",
      "INFO:gensim.models.word2vec:PROGRESS: at sentence #40000, processed 423108 words, keeping 44289 word types\n",
      "INFO:gensim.models.word2vec:PROGRESS: at sentence #50000, processed 529369 words, keeping 51047 word types\n",
      "INFO:gensim.models.word2vec:PROGRESS: at sentence #60000, processed 638293 words, keeping 58365 word types\n",
      "INFO:gensim.models.word2vec:PROGRESS: at sentence #70000, processed 745899 words, keeping 65401 word types\n",
      "INFO:gensim.models.word2vec:PROGRESS: at sentence #80000, processed 853898 words, keeping 72230 word types\n",
      "INFO:gensim.models.word2vec:PROGRESS: at sentence #90000, processed 962759 words, keeping 79142 word types\n",
      "INFO:gensim.models.word2vec:PROGRESS: at sentence #100000, processed 1067276 words, keeping 85312 word types\n",
      "INFO:gensim.models.word2vec:PROGRESS: at sentence #110000, processed 1167819 words, keeping 90592 word types\n",
      "INFO:gensim.models.word2vec:PROGRESS: at sentence #120000, processed 1266163 words, keeping 95654 word types\n",
      "INFO:gensim.models.word2vec:PROGRESS: at sentence #130000, processed 1368978 words, keeping 100560 word types\n",
      "INFO:gensim.models.word2vec:PROGRESS: at sentence #140000, processed 1474445 words, keeping 105712 word types\n",
      "INFO:gensim.models.word2vec:PROGRESS: at sentence #150000, processed 1577649 words, keeping 111027 word types\n",
      "INFO:gensim.models.word2vec:PROGRESS: at sentence #160000, processed 1680227 words, keeping 116339 word types\n",
      "INFO:gensim.models.word2vec:PROGRESS: at sentence #170000, processed 1785224 words, keeping 121793 word types\n",
      "INFO:gensim.models.word2vec:PROGRESS: at sentence #180000, processed 1883125 words, keeping 126277 word types\n",
      "INFO:gensim.models.word2vec:PROGRESS: at sentence #190000, processed 1986767 words, keeping 130697 word types\n",
      "INFO:gensim.models.word2vec:PROGRESS: at sentence #200000, processed 2087611 words, keeping 134706 word types\n",
      "INFO:gensim.models.word2vec:PROGRESS: at sentence #210000, processed 2187132 words, keeping 138518 word types\n",
      "INFO:gensim.models.word2vec:PROGRESS: at sentence #220000, processed 2291144 words, keeping 142700 word types\n",
      "INFO:gensim.models.word2vec:PROGRESS: at sentence #230000, processed 2394260 words, keeping 147480 word types\n",
      "INFO:gensim.models.word2vec:PROGRESS: at sentence #240000, processed 2496466 words, keeping 152243 word types\n",
      "INFO:gensim.models.word2vec:PROGRESS: at sentence #250000, processed 2605832 words, keeping 157192 word types\n",
      "INFO:gensim.models.word2vec:PROGRESS: at sentence #260000, processed 2717511 words, keeping 160966 word types\n",
      "INFO:gensim.models.word2vec:PROGRESS: at sentence #270000, processed 2826275 words, keeping 164567 word types\n",
      "INFO:gensim.models.word2vec:PROGRESS: at sentence #280000, processed 2922116 words, keeping 168614 word types\n",
      "INFO:gensim.models.word2vec:PROGRESS: at sentence #290000, processed 3016630 words, keeping 172896 word types\n",
      "INFO:gensim.models.word2vec:PROGRESS: at sentence #300000, processed 3118986 words, keeping 177541 word types\n",
      "INFO:gensim.models.word2vec:PROGRESS: at sentence #310000, processed 3221529 words, keeping 182176 word types\n",
      "INFO:gensim.models.word2vec:PROGRESS: at sentence #320000, processed 3323817 words, keeping 186488 word types\n",
      "INFO:gensim.models.word2vec:collected 189858 word types from a corpus of 3402500 raw words and 327722 sentences\n",
      "INFO:gensim.models.word2vec:Loading a fresh vocabulary\n",
      "INFO:gensim.models.word2vec:effective_min_count=5 retains 30787 unique words (16% of original 189858, drops 159071)\n",
      "INFO:gensim.models.word2vec:effective_min_count=5 leaves 3191042 word corpus (93% of original 3402500, drops 211458)\n",
      "INFO:gensim.models.word2vec:deleting the raw counts dictionary of 189858 items\n",
      "INFO:gensim.models.word2vec:sample=0.001 downsamples 25 most-common words\n",
      "INFO:gensim.models.word2vec:downsampling leaves estimated 2753777 word corpus (86.3% of prior 3191042)\n",
      "INFO:gensim.models.base_any2vec:estimated required memory for 30787 words and 300 dimensions: 89282300 bytes\n",
      "INFO:gensim.models.word2vec:resetting layer weights\n",
      "INFO:gensim.models.base_any2vec:training model with 8 workers on 30787 vocabulary and 300 features, using sg=0 hs=0 sample=0.001 negative=5 window=5\n",
      "INFO:gensim.models.word2vec:reading file data/processed/trigram/documents.txt\n",
      "DEBUG:smart_open.smart_open_lib:{'uri': 'data/processed/trigram/documents.txt', 'mode': 'rb', 'buffering': -1, 'encoding': None, 'errors': None, 'newline': None, 'closefd': True, 'opener': None, 'compression': 'infer_from_extension', 'transport_params': None}\n",
      "INFO:gensim.models.base_any2vec:EPOCH 1 - PROGRESS: at 34.20% examples, 954846 words/s, in_qsize 16, out_qsize 0\n",
      "INFO:gensim.models.base_any2vec:EPOCH 1 - PROGRESS: at 72.41% examples, 986935 words/s, in_qsize 14, out_qsize 1\n",
      "DEBUG:gensim.models.base_any2vec:job loop exiting, total 341 jobs\n",
      "DEBUG:gensim.models.base_any2vec:worker exiting, processed 41 jobs\n",
      "INFO:gensim.models.base_any2vec:worker thread finished; awaiting finish of 7 more threads\n",
      "DEBUG:gensim.models.base_any2vec:worker exiting, processed 42 jobs\n",
      "INFO:gensim.models.base_any2vec:worker thread finished; awaiting finish of 6 more threads\n",
      "DEBUG:gensim.models.base_any2vec:worker exiting, processed 42 jobs\n",
      "DEBUG:gensim.models.base_any2vec:worker exiting, processed 42 jobs\n",
      "INFO:gensim.models.base_any2vec:worker thread finished; awaiting finish of 5 more threads\n",
      "DEBUG:gensim.models.base_any2vec:worker exiting, processed 42 jobs\n",
      "DEBUG:gensim.models.base_any2vec:worker exiting, processed 44 jobs\n",
      "INFO:gensim.models.base_any2vec:worker thread finished; awaiting finish of 4 more threads\n",
      "DEBUG:gensim.models.base_any2vec:worker exiting, processed 44 jobs\n",
      "INFO:gensim.models.base_any2vec:worker thread finished; awaiting finish of 3 more threads\n",
      "INFO:gensim.models.base_any2vec:worker thread finished; awaiting finish of 2 more threads\n",
      "INFO:gensim.models.base_any2vec:worker thread finished; awaiting finish of 1 more threads\n",
      "DEBUG:gensim.models.base_any2vec:worker exiting, processed 44 jobs\n",
      "INFO:gensim.models.base_any2vec:worker thread finished; awaiting finish of 0 more threads\n",
      "INFO:gensim.models.base_any2vec:EPOCH - 1 : training on 3402500 raw words (2753611 effective words) took 2.7s, 1030394 effective words/s\n",
      "INFO:gensim.models.word2vec:reading file data/processed/trigram/documents.txt\n",
      "DEBUG:smart_open.smart_open_lib:{'uri': 'data/processed/trigram/documents.txt', 'mode': 'rb', 'buffering': -1, 'encoding': None, 'errors': None, 'newline': None, 'closefd': True, 'opener': None, 'compression': 'infer_from_extension', 'transport_params': None}\n",
      "INFO:gensim.models.base_any2vec:EPOCH 2 - PROGRESS: at 32.63% examples, 900362 words/s, in_qsize 16, out_qsize 1\n",
      "INFO:gensim.models.base_any2vec:EPOCH 2 - PROGRESS: at 70.90% examples, 962799 words/s, in_qsize 15, out_qsize 0\n",
      "DEBUG:gensim.models.base_any2vec:job loop exiting, total 341 jobs\n",
      "DEBUG:gensim.models.base_any2vec:worker exiting, processed 41 jobs\n",
      "INFO:gensim.models.base_any2vec:worker thread finished; awaiting finish of 7 more threads\n",
      "DEBUG:gensim.models.base_any2vec:worker exiting, processed 43 jobs\n",
      "DEBUG:gensim.models.base_any2vec:worker exiting, processed 39 jobs\n"
     ]
    },
    {
     "name": "stdout",
     "output_type": "stream",
     "text": [
      "INFO:gensim.models.base_any2vec:worker thread finished; awaiting finish of 6 more threads\n",
      "DEBUG:gensim.models.base_any2vec:worker exiting, processed 44 jobs\n",
      "INFO:gensim.models.base_any2vec:worker thread finished; awaiting finish of 5 more threads\n",
      "DEBUG:gensim.models.base_any2vec:worker exiting, processed 43 jobs\n",
      "DEBUG:gensim.models.base_any2vec:worker exiting, processed 44 jobs\n",
      "DEBUG:gensim.models.base_any2vec:worker exiting, processed 42 jobs\n",
      "INFO:gensim.models.base_any2vec:worker thread finished; awaiting finish of 4 more threads\n",
      "INFO:gensim.models.base_any2vec:worker thread finished; awaiting finish of 3 more threads\n",
      "INFO:gensim.models.base_any2vec:worker thread finished; awaiting finish of 2 more threads\n",
      "INFO:gensim.models.base_any2vec:worker thread finished; awaiting finish of 1 more threads\n",
      "DEBUG:gensim.models.base_any2vec:worker exiting, processed 45 jobs\n",
      "INFO:gensim.models.base_any2vec:worker thread finished; awaiting finish of 0 more threads\n",
      "INFO:gensim.models.base_any2vec:EPOCH - 2 : training on 3402500 raw words (2754045 effective words) took 2.8s, 1000271 effective words/s\n",
      "INFO:gensim.models.word2vec:reading file data/processed/trigram/documents.txt\n",
      "DEBUG:smart_open.smart_open_lib:{'uri': 'data/processed/trigram/documents.txt', 'mode': 'rb', 'buffering': -1, 'encoding': None, 'errors': None, 'newline': None, 'closefd': True, 'opener': None, 'compression': 'infer_from_extension', 'transport_params': None}\n",
      "INFO:gensim.models.base_any2vec:EPOCH 3 - PROGRESS: at 34.17% examples, 963006 words/s, in_qsize 15, out_qsize 0\n",
      "INFO:gensim.models.base_any2vec:EPOCH 3 - PROGRESS: at 72.13% examples, 991650 words/s, in_qsize 14, out_qsize 1\n",
      "DEBUG:gensim.models.base_any2vec:job loop exiting, total 341 jobs\n",
      "DEBUG:gensim.models.base_any2vec:worker exiting, processed 42 jobs\n",
      "DEBUG:gensim.models.base_any2vec:worker exiting, processed 42 jobs\n",
      "INFO:gensim.models.base_any2vec:worker thread finished; awaiting finish of 7 more threads\n",
      "DEBUG:gensim.models.base_any2vec:worker exiting, processed 41 jobs\n",
      "DEBUG:gensim.models.base_any2vec:worker exiting, processed 42 jobs\n",
      "INFO:gensim.models.base_any2vec:worker thread finished; awaiting finish of 6 more threads\n",
      "DEBUG:gensim.models.base_any2vec:worker exiting, processed 43 jobs\n",
      "INFO:gensim.models.base_any2vec:worker thread finished; awaiting finish of 5 more threads\n",
      "INFO:gensim.models.base_any2vec:worker thread finished; awaiting finish of 4 more threads\n",
      "INFO:gensim.models.base_any2vec:worker thread finished; awaiting finish of 3 more threads\n",
      "DEBUG:gensim.models.base_any2vec:worker exiting, processed 42 jobs\n",
      "INFO:gensim.models.base_any2vec:worker thread finished; awaiting finish of 2 more threads\n",
      "DEBUG:gensim.models.base_any2vec:worker exiting, processed 46 jobs\n",
      "INFO:gensim.models.base_any2vec:worker thread finished; awaiting finish of 1 more threads\n",
      "DEBUG:gensim.models.base_any2vec:worker exiting, processed 43 jobs\n",
      "INFO:gensim.models.base_any2vec:worker thread finished; awaiting finish of 0 more threads\n",
      "INFO:gensim.models.base_any2vec:EPOCH - 3 : training on 3402500 raw words (2753407 effective words) took 2.7s, 1011163 effective words/s\n",
      "INFO:gensim.models.word2vec:reading file data/processed/trigram/documents.txt\n",
      "DEBUG:smart_open.smart_open_lib:{'uri': 'data/processed/trigram/documents.txt', 'mode': 'rb', 'buffering': -1, 'encoding': None, 'errors': None, 'newline': None, 'closefd': True, 'opener': None, 'compression': 'infer_from_extension', 'transport_params': None}\n",
      "INFO:gensim.models.base_any2vec:EPOCH 4 - PROGRESS: at 33.88% examples, 953527 words/s, in_qsize 14, out_qsize 1\n",
      "INFO:gensim.models.base_any2vec:EPOCH 4 - PROGRESS: at 71.52% examples, 983830 words/s, in_qsize 14, out_qsize 1\n",
      "DEBUG:gensim.models.base_any2vec:job loop exiting, total 341 jobs\n",
      "DEBUG:gensim.models.base_any2vec:worker exiting, processed 43 jobs\n",
      "DEBUG:gensim.models.base_any2vec:worker exiting, processed 43 jobs\n",
      "INFO:gensim.models.base_any2vec:worker thread finished; awaiting finish of 7 more threads\n",
      "INFO:gensim.models.base_any2vec:worker thread finished; awaiting finish of 6 more threads\n",
      "DEBUG:gensim.models.base_any2vec:worker exiting, processed 42 jobs\n",
      "INFO:gensim.models.base_any2vec:worker thread finished; awaiting finish of 5 more threads\n",
      "DEBUG:gensim.models.base_any2vec:worker exiting, processed 41 jobs\n",
      "DEBUG:gensim.models.base_any2vec:worker exiting, processed 42 jobs\n",
      "DEBUG:gensim.models.base_any2vec:worker exiting, processed 44 jobs\n",
      "INFO:gensim.models.base_any2vec:worker thread finished; awaiting finish of 4 more threads\n",
      "DEBUG:gensim.models.base_any2vec:worker exiting, processed 42 jobs\n",
      "INFO:gensim.models.base_any2vec:worker thread finished; awaiting finish of 3 more threads\n",
      "INFO:gensim.models.base_any2vec:worker thread finished; awaiting finish of 2 more threads\n",
      "INFO:gensim.models.base_any2vec:worker thread finished; awaiting finish of 1 more threads\n",
      "DEBUG:gensim.models.base_any2vec:worker exiting, processed 44 jobs\n",
      "INFO:gensim.models.base_any2vec:worker thread finished; awaiting finish of 0 more threads\n",
      "INFO:gensim.models.base_any2vec:EPOCH - 4 : training on 3402500 raw words (2753682 effective words) took 2.8s, 999658 effective words/s\n",
      "INFO:gensim.models.word2vec:reading file data/processed/trigram/documents.txt\n",
      "DEBUG:smart_open.smart_open_lib:{'uri': 'data/processed/trigram/documents.txt', 'mode': 'rb', 'buffering': -1, 'encoding': None, 'errors': None, 'newline': None, 'closefd': True, 'opener': None, 'compression': 'infer_from_extension', 'transport_params': None}\n",
      "INFO:gensim.models.base_any2vec:EPOCH 5 - PROGRESS: at 34.79% examples, 965681 words/s, in_qsize 15, out_qsize 0\n",
      "INFO:gensim.models.base_any2vec:EPOCH 5 - PROGRESS: at 72.70% examples, 995701 words/s, in_qsize 15, out_qsize 0\n",
      "DEBUG:gensim.models.base_any2vec:job loop exiting, total 341 jobs\n",
      "DEBUG:gensim.models.base_any2vec:worker exiting, processed 41 jobs\n",
      "DEBUG:gensim.models.base_any2vec:worker exiting, processed 43 jobs\n",
      "DEBUG:gensim.models.base_any2vec:worker exiting, processed 41 jobs\n",
      "DEBUG:gensim.models.base_any2vec:worker exiting, processed 43 jobs\n",
      "INFO:gensim.models.base_any2vec:worker thread finished; awaiting finish of 7 more threads\n",
      "DEBUG:gensim.models.base_any2vec:worker exiting, processed 43 jobs\n",
      "INFO:gensim.models.base_any2vec:worker thread finished; awaiting finish of 6 more threads\n",
      "INFO:gensim.models.base_any2vec:worker thread finished; awaiting finish of 5 more threads\n",
      "INFO:gensim.models.base_any2vec:worker thread finished; awaiting finish of 4 more threads\n",
      "INFO:gensim.models.base_any2vec:worker thread finished; awaiting finish of 3 more threads\n",
      "DEBUG:gensim.models.base_any2vec:worker exiting, processed 41 jobs\n",
      "INFO:gensim.models.base_any2vec:worker thread finished; awaiting finish of 2 more threads\n",
      "DEBUG:gensim.models.base_any2vec:worker exiting, processed 44 jobs\n",
      "INFO:gensim.models.base_any2vec:worker thread finished; awaiting finish of 1 more threads\n",
      "DEBUG:gensim.models.base_any2vec:worker exiting, processed 45 jobs\n",
      "INFO:gensim.models.base_any2vec:worker thread finished; awaiting finish of 0 more threads\n",
      "INFO:gensim.models.base_any2vec:EPOCH - 5 : training on 3402500 raw words (2753189 effective words) took 2.7s, 1003031 effective words/s\n",
      "INFO:gensim.models.word2vec:reading file data/processed/trigram/documents.txt\n",
      "DEBUG:smart_open.smart_open_lib:{'uri': 'data/processed/trigram/documents.txt', 'mode': 'rb', 'buffering': -1, 'encoding': None, 'errors': None, 'newline': None, 'closefd': True, 'opener': None, 'compression': 'infer_from_extension', 'transport_params': None}\n",
      "INFO:gensim.models.base_any2vec:EPOCH 6 - PROGRESS: at 33.91% examples, 952257 words/s, in_qsize 15, out_qsize 0\n",
      "INFO:gensim.models.base_any2vec:EPOCH 6 - PROGRESS: at 72.12% examples, 990248 words/s, in_qsize 16, out_qsize 0\n",
      "DEBUG:gensim.models.base_any2vec:job loop exiting, total 341 jobs\n",
      "DEBUG:gensim.models.base_any2vec:worker exiting, processed 43 jobs\n",
      "DEBUG:gensim.models.base_any2vec:worker exiting, processed 43 jobs\n",
      "INFO:gensim.models.base_any2vec:worker thread finished; awaiting finish of 7 more threads\n",
      "INFO:gensim.models.base_any2vec:worker thread finished; awaiting finish of 6 more threads\n",
      "DEBUG:gensim.models.base_any2vec:worker exiting, processed 39 jobs\n",
      "INFO:gensim.models.base_any2vec:worker thread finished; awaiting finish of 5 more threads\n"
     ]
    },
    {
     "name": "stdout",
     "output_type": "stream",
     "text": [
      "DEBUG:gensim.models.base_any2vec:worker exiting, processed 44 jobs\n",
      "DEBUG:gensim.models.base_any2vec:worker exiting, processed 43 jobs\n",
      "DEBUG:gensim.models.base_any2vec:worker exiting, processed 41 jobs\n",
      "INFO:gensim.models.base_any2vec:worker thread finished; awaiting finish of 4 more threads\n",
      "INFO:gensim.models.base_any2vec:worker thread finished; awaiting finish of 3 more threads\n",
      "INFO:gensim.models.base_any2vec:worker thread finished; awaiting finish of 2 more threads\n",
      "DEBUG:gensim.models.base_any2vec:worker exiting, processed 46 jobs\n",
      "INFO:gensim.models.base_any2vec:worker thread finished; awaiting finish of 1 more threads\n",
      "DEBUG:gensim.models.base_any2vec:worker exiting, processed 42 jobs\n",
      "INFO:gensim.models.base_any2vec:worker thread finished; awaiting finish of 0 more threads\n",
      "INFO:gensim.models.base_any2vec:EPOCH - 6 : training on 3402500 raw words (2753742 effective words) took 2.8s, 995088 effective words/s\n",
      "INFO:gensim.models.word2vec:reading file data/processed/trigram/documents.txt\n",
      "DEBUG:smart_open.smart_open_lib:{'uri': 'data/processed/trigram/documents.txt', 'mode': 'rb', 'buffering': -1, 'encoding': None, 'errors': None, 'newline': None, 'closefd': True, 'opener': None, 'compression': 'infer_from_extension', 'transport_params': None}\n",
      "INFO:gensim.models.base_any2vec:EPOCH 7 - PROGRESS: at 34.21% examples, 948375 words/s, in_qsize 15, out_qsize 0\n",
      "INFO:gensim.models.base_any2vec:EPOCH 7 - PROGRESS: at 73.01% examples, 997561 words/s, in_qsize 15, out_qsize 0\n",
      "DEBUG:gensim.models.base_any2vec:job loop exiting, total 341 jobs\n",
      "DEBUG:gensim.models.base_any2vec:worker exiting, processed 40 jobs\n",
      "DEBUG:gensim.models.base_any2vec:worker exiting, processed 43 jobs\n",
      "INFO:gensim.models.base_any2vec:worker thread finished; awaiting finish of 7 more threads\n",
      "DEBUG:gensim.models.base_any2vec:worker exiting, processed 41 jobs\n",
      "INFO:gensim.models.base_any2vec:worker thread finished; awaiting finish of 6 more threads\n",
      "DEBUG:gensim.models.base_any2vec:worker exiting, processed 45 jobs\n",
      "DEBUG:gensim.models.base_any2vec:worker exiting, processed 42 jobs\n",
      "INFO:gensim.models.base_any2vec:worker thread finished; awaiting finish of 5 more threads\n",
      "DEBUG:gensim.models.base_any2vec:worker exiting, processed 42 jobs\n",
      "INFO:gensim.models.base_any2vec:worker thread finished; awaiting finish of 4 more threads\n",
      "INFO:gensim.models.base_any2vec:worker thread finished; awaiting finish of 3 more threads\n",
      "INFO:gensim.models.base_any2vec:worker thread finished; awaiting finish of 2 more threads\n",
      "DEBUG:gensim.models.base_any2vec:worker exiting, processed 45 jobs\n",
      "INFO:gensim.models.base_any2vec:worker thread finished; awaiting finish of 1 more threads\n",
      "DEBUG:gensim.models.base_any2vec:worker exiting, processed 43 jobs\n",
      "INFO:gensim.models.base_any2vec:worker thread finished; awaiting finish of 0 more threads\n",
      "INFO:gensim.models.base_any2vec:EPOCH - 7 : training on 3402500 raw words (2753914 effective words) took 2.7s, 1036259 effective words/s\n",
      "INFO:gensim.models.word2vec:reading file data/processed/trigram/documents.txt\n",
      "DEBUG:smart_open.smart_open_lib:{'uri': 'data/processed/trigram/documents.txt', 'mode': 'rb', 'buffering': -1, 'encoding': None, 'errors': None, 'newline': None, 'closefd': True, 'opener': None, 'compression': 'infer_from_extension', 'transport_params': None}\n",
      "INFO:gensim.models.base_any2vec:EPOCH 8 - PROGRESS: at 31.80% examples, 899990 words/s, in_qsize 16, out_qsize 0\n",
      "INFO:gensim.models.base_any2vec:EPOCH 8 - PROGRESS: at 69.42% examples, 955733 words/s, in_qsize 15, out_qsize 0\n",
      "DEBUG:gensim.models.base_any2vec:job loop exiting, total 341 jobs\n",
      "DEBUG:gensim.models.base_any2vec:worker exiting, processed 43 jobs\n",
      "INFO:gensim.models.base_any2vec:worker thread finished; awaiting finish of 7 more threads\n",
      "DEBUG:gensim.models.base_any2vec:worker exiting, processed 42 jobs\n",
      "DEBUG:gensim.models.base_any2vec:worker exiting, processed 44 jobs\n",
      "INFO:gensim.models.base_any2vec:worker thread finished; awaiting finish of 6 more threads\n",
      "DEBUG:gensim.models.base_any2vec:worker exiting, processed 42 jobs\n",
      "DEBUG:gensim.models.base_any2vec:worker exiting, processed 42 jobs\n",
      "INFO:gensim.models.base_any2vec:worker thread finished; awaiting finish of 5 more threads\n",
      "DEBUG:gensim.models.base_any2vec:worker exiting, processed 46 jobs\n",
      "INFO:gensim.models.base_any2vec:worker thread finished; awaiting finish of 4 more threads\n",
      "INFO:gensim.models.base_any2vec:worker thread finished; awaiting finish of 3 more threads\n",
      "INFO:gensim.models.base_any2vec:worker thread finished; awaiting finish of 2 more threads\n",
      "DEBUG:gensim.models.base_any2vec:worker exiting, processed 41 jobs\n",
      "INFO:gensim.models.base_any2vec:worker thread finished; awaiting finish of 1 more threads\n",
      "DEBUG:gensim.models.base_any2vec:worker exiting, processed 41 jobs\n",
      "INFO:gensim.models.base_any2vec:worker thread finished; awaiting finish of 0 more threads\n",
      "INFO:gensim.models.base_any2vec:EPOCH - 8 : training on 3402500 raw words (2754395 effective words) took 2.8s, 992094 effective words/s\n",
      "INFO:gensim.models.word2vec:reading file data/processed/trigram/documents.txt\n",
      "DEBUG:smart_open.smart_open_lib:{'uri': 'data/processed/trigram/documents.txt', 'mode': 'rb', 'buffering': -1, 'encoding': None, 'errors': None, 'newline': None, 'closefd': True, 'opener': None, 'compression': 'infer_from_extension', 'transport_params': None}\n",
      "INFO:gensim.models.base_any2vec:EPOCH 9 - PROGRESS: at 33.28% examples, 939166 words/s, in_qsize 13, out_qsize 2\n",
      "INFO:gensim.models.base_any2vec:EPOCH 9 - PROGRESS: at 71.79% examples, 985609 words/s, in_qsize 16, out_qsize 1\n",
      "DEBUG:gensim.models.base_any2vec:job loop exiting, total 341 jobs\n",
      "DEBUG:gensim.models.base_any2vec:worker exiting, processed 42 jobs\n",
      "INFO:gensim.models.base_any2vec:worker thread finished; awaiting finish of 7 more threads\n",
      "DEBUG:gensim.models.base_any2vec:worker exiting, processed 43 jobs\n",
      "DEBUG:gensim.models.base_any2vec:worker exiting, processed 43 jobs\n",
      "INFO:gensim.models.base_any2vec:worker thread finished; awaiting finish of 6 more threads\n",
      "INFO:gensim.models.base_any2vec:worker thread finished; awaiting finish of 5 more threads\n",
      "DEBUG:gensim.models.base_any2vec:worker exiting, processed 43 jobs\n",
      "DEBUG:gensim.models.base_any2vec:worker exiting, processed 42 jobs\n",
      "INFO:gensim.models.base_any2vec:worker thread finished; awaiting finish of 4 more threads\n",
      "INFO:gensim.models.base_any2vec:worker thread finished; awaiting finish of 3 more threads\n",
      "DEBUG:gensim.models.base_any2vec:worker exiting, processed 42 jobs\n",
      "INFO:gensim.models.base_any2vec:worker thread finished; awaiting finish of 2 more threads\n",
      "DEBUG:gensim.models.base_any2vec:worker exiting, processed 43 jobs\n",
      "INFO:gensim.models.base_any2vec:worker thread finished; awaiting finish of 1 more threads\n",
      "DEBUG:gensim.models.base_any2vec:worker exiting, processed 43 jobs\n",
      "INFO:gensim.models.base_any2vec:worker thread finished; awaiting finish of 0 more threads\n",
      "INFO:gensim.models.base_any2vec:EPOCH - 9 : training on 3402500 raw words (2753089 effective words) took 2.7s, 1005195 effective words/s\n",
      "INFO:gensim.models.word2vec:reading file data/processed/trigram/documents.txt\n",
      "DEBUG:smart_open.smart_open_lib:{'uri': 'data/processed/trigram/documents.txt', 'mode': 'rb', 'buffering': -1, 'encoding': None, 'errors': None, 'newline': None, 'closefd': True, 'opener': None, 'compression': 'infer_from_extension', 'transport_params': None}\n",
      "INFO:gensim.models.base_any2vec:EPOCH 10 - PROGRESS: at 29.99% examples, 832415 words/s, in_qsize 13, out_qsize 2\n",
      "INFO:gensim.models.base_any2vec:EPOCH 10 - PROGRESS: at 68.53% examples, 929635 words/s, in_qsize 15, out_qsize 0\n",
      "DEBUG:gensim.models.base_any2vec:job loop exiting, total 341 jobs\n",
      "DEBUG:gensim.models.base_any2vec:worker exiting, processed 43 jobs\n",
      "INFO:gensim.models.base_any2vec:worker thread finished; awaiting finish of 7 more threads\n",
      "DEBUG:gensim.models.base_any2vec:worker exiting, processed 40 jobs\n",
      "INFO:gensim.models.base_any2vec:worker thread finished; awaiting finish of 6 more threads\n",
      "DEBUG:gensim.models.base_any2vec:worker exiting, processed 42 jobs\n",
      "INFO:gensim.models.base_any2vec:worker thread finished; awaiting finish of 5 more threads\n",
      "DEBUG:gensim.models.base_any2vec:worker exiting, processed 42 jobs\n",
      "INFO:gensim.models.base_any2vec:worker thread finished; awaiting finish of 4 more threads\n"
     ]
    },
    {
     "name": "stdout",
     "output_type": "stream",
     "text": [
      "DEBUG:gensim.models.base_any2vec:worker exiting, processed 45 jobs\n",
      "INFO:gensim.models.base_any2vec:worker thread finished; awaiting finish of 3 more threads\n",
      "DEBUG:gensim.models.base_any2vec:worker exiting, processed 43 jobs\n",
      "INFO:gensim.models.base_any2vec:worker thread finished; awaiting finish of 2 more threads\n",
      "DEBUG:gensim.models.base_any2vec:worker exiting, processed 42 jobs\n",
      "INFO:gensim.models.base_any2vec:worker thread finished; awaiting finish of 1 more threads\n",
      "DEBUG:gensim.models.base_any2vec:worker exiting, processed 44 jobs\n",
      "INFO:gensim.models.base_any2vec:worker thread finished; awaiting finish of 0 more threads\n",
      "INFO:gensim.models.base_any2vec:EPOCH - 10 : training on 3402500 raw words (2753808 effective words) took 2.9s, 961515 effective words/s\n",
      "INFO:gensim.models.word2vec:reading file data/processed/trigram/documents.txt\n",
      "DEBUG:smart_open.smart_open_lib:{'uri': 'data/processed/trigram/documents.txt', 'mode': 'rb', 'buffering': -1, 'encoding': None, 'errors': None, 'newline': None, 'closefd': True, 'opener': None, 'compression': 'infer_from_extension', 'transport_params': None}\n",
      "INFO:gensim.models.base_any2vec:EPOCH 11 - PROGRESS: at 33.88% examples, 944916 words/s, in_qsize 15, out_qsize 3\n",
      "INFO:gensim.models.base_any2vec:EPOCH 11 - PROGRESS: at 71.52% examples, 981034 words/s, in_qsize 15, out_qsize 0\n",
      "DEBUG:gensim.models.base_any2vec:job loop exiting, total 341 jobs\n",
      "DEBUG:gensim.models.base_any2vec:worker exiting, processed 44 jobs\n",
      "INFO:gensim.models.base_any2vec:worker thread finished; awaiting finish of 7 more threads\n",
      "DEBUG:gensim.models.base_any2vec:worker exiting, processed 43 jobs\n",
      "DEBUG:gensim.models.base_any2vec:worker exiting, processed 42 jobs\n",
      "INFO:gensim.models.base_any2vec:worker thread finished; awaiting finish of 6 more threads\n",
      "INFO:gensim.models.base_any2vec:worker thread finished; awaiting finish of 5 more threads\n",
      "DEBUG:gensim.models.base_any2vec:worker exiting, processed 43 jobs\n",
      "INFO:gensim.models.base_any2vec:worker thread finished; awaiting finish of 4 more threads\n",
      "DEBUG:gensim.models.base_any2vec:worker exiting, processed 44 jobs\n",
      "INFO:gensim.models.base_any2vec:worker thread finished; awaiting finish of 3 more threads\n",
      "DEBUG:gensim.models.base_any2vec:worker exiting, processed 41 jobs\n",
      "INFO:gensim.models.base_any2vec:worker thread finished; awaiting finish of 2 more threads\n",
      "DEBUG:gensim.models.base_any2vec:worker exiting, processed 42 jobs\n",
      "INFO:gensim.models.base_any2vec:worker thread finished; awaiting finish of 1 more threads\n",
      "DEBUG:gensim.models.base_any2vec:worker exiting, processed 42 jobs\n",
      "INFO:gensim.models.base_any2vec:worker thread finished; awaiting finish of 0 more threads\n",
      "INFO:gensim.models.base_any2vec:EPOCH - 11 : training on 3402500 raw words (2753325 effective words) took 2.8s, 991989 effective words/s\n",
      "INFO:gensim.models.word2vec:reading file data/processed/trigram/documents.txt\n",
      "DEBUG:smart_open.smart_open_lib:{'uri': 'data/processed/trigram/documents.txt', 'mode': 'rb', 'buffering': -1, 'encoding': None, 'errors': None, 'newline': None, 'closefd': True, 'opener': None, 'compression': 'infer_from_extension', 'transport_params': None}\n",
      "INFO:gensim.models.base_any2vec:EPOCH 12 - PROGRESS: at 33.88% examples, 950621 words/s, in_qsize 15, out_qsize 0\n",
      "INFO:gensim.models.base_any2vec:EPOCH 12 - PROGRESS: at 70.91% examples, 976392 words/s, in_qsize 14, out_qsize 1\n",
      "DEBUG:gensim.models.base_any2vec:job loop exiting, total 341 jobs\n",
      "DEBUG:gensim.models.base_any2vec:worker exiting, processed 42 jobs\n",
      "INFO:gensim.models.base_any2vec:worker thread finished; awaiting finish of 7 more threads\n",
      "DEBUG:gensim.models.base_any2vec:worker exiting, processed 42 jobs\n",
      "DEBUG:gensim.models.base_any2vec:worker exiting, processed 44 jobs\n",
      "DEBUG:gensim.models.base_any2vec:worker exiting, processed 41 jobs\n",
      "INFO:gensim.models.base_any2vec:worker thread finished; awaiting finish of 6 more threads\n",
      "DEBUG:gensim.models.base_any2vec:worker exiting, processed 42 jobs\n",
      "INFO:gensim.models.base_any2vec:worker thread finished; awaiting finish of 5 more threads\n",
      "INFO:gensim.models.base_any2vec:worker thread finished; awaiting finish of 4 more threads\n",
      "INFO:gensim.models.base_any2vec:worker thread finished; awaiting finish of 3 more threads\n",
      "DEBUG:gensim.models.base_any2vec:worker exiting, processed 45 jobs\n",
      "INFO:gensim.models.base_any2vec:worker thread finished; awaiting finish of 2 more threads\n",
      "DEBUG:gensim.models.base_any2vec:worker exiting, processed 42 jobs\n",
      "INFO:gensim.models.base_any2vec:worker thread finished; awaiting finish of 1 more threads\n",
      "DEBUG:gensim.models.base_any2vec:worker exiting, processed 43 jobs\n",
      "INFO:gensim.models.base_any2vec:worker thread finished; awaiting finish of 0 more threads\n",
      "INFO:gensim.models.base_any2vec:EPOCH - 12 : training on 3402500 raw words (2753392 effective words) took 2.7s, 1013270 effective words/s\n",
      "INFO:gensim.models.word2vec:reading file data/processed/trigram/documents.txt\n",
      "DEBUG:smart_open.smart_open_lib:{'uri': 'data/processed/trigram/documents.txt', 'mode': 'rb', 'buffering': -1, 'encoding': None, 'errors': None, 'newline': None, 'closefd': True, 'opener': None, 'compression': 'infer_from_extension', 'transport_params': None}\n",
      "INFO:gensim.models.base_any2vec:EPOCH 13 - PROGRESS: at 30.58% examples, 866438 words/s, in_qsize 14, out_qsize 1\n",
      "INFO:gensim.models.base_any2vec:EPOCH 13 - PROGRESS: at 67.35% examples, 926339 words/s, in_qsize 15, out_qsize 0\n",
      "DEBUG:gensim.models.base_any2vec:job loop exiting, total 341 jobs\n",
      "DEBUG:gensim.models.base_any2vec:worker exiting, processed 44 jobs\n",
      "INFO:gensim.models.base_any2vec:worker thread finished; awaiting finish of 7 more threads\n",
      "DEBUG:gensim.models.base_any2vec:worker exiting, processed 41 jobs\n",
      "DEBUG:gensim.models.base_any2vec:worker exiting, processed 41 jobs\n",
      "INFO:gensim.models.base_any2vec:worker thread finished; awaiting finish of 6 more threads\n",
      "DEBUG:gensim.models.base_any2vec:worker exiting, processed 42 jobs\n",
      "DEBUG:gensim.models.base_any2vec:worker exiting, processed 44 jobs\n",
      "INFO:gensim.models.base_any2vec:worker thread finished; awaiting finish of 5 more threads\n",
      "DEBUG:gensim.models.base_any2vec:worker exiting, processed 45 jobs\n",
      "INFO:gensim.models.base_any2vec:worker thread finished; awaiting finish of 4 more threads\n",
      "INFO:gensim.models.base_any2vec:worker thread finished; awaiting finish of 3 more threads\n",
      "INFO:gensim.models.base_any2vec:worker thread finished; awaiting finish of 2 more threads\n",
      "DEBUG:gensim.models.base_any2vec:worker exiting, processed 40 jobs\n",
      "INFO:gensim.models.base_any2vec:worker thread finished; awaiting finish of 1 more threads\n",
      "DEBUG:gensim.models.base_any2vec:worker exiting, processed 44 jobs\n",
      "INFO:gensim.models.base_any2vec:worker thread finished; awaiting finish of 0 more threads\n",
      "INFO:gensim.models.base_any2vec:EPOCH - 13 : training on 3402500 raw words (2753304 effective words) took 2.8s, 978787 effective words/s\n",
      "INFO:gensim.models.word2vec:reading file data/processed/trigram/documents.txt\n",
      "DEBUG:smart_open.smart_open_lib:{'uri': 'data/processed/trigram/documents.txt', 'mode': 'rb', 'buffering': -1, 'encoding': None, 'errors': None, 'newline': None, 'closefd': True, 'opener': None, 'compression': 'infer_from_extension', 'transport_params': None}\n",
      "INFO:gensim.models.base_any2vec:EPOCH 14 - PROGRESS: at 33.26% examples, 928888 words/s, in_qsize 15, out_qsize 0\n",
      "INFO:gensim.models.base_any2vec:EPOCH 14 - PROGRESS: at 68.24% examples, 934488 words/s, in_qsize 15, out_qsize 0\n",
      "DEBUG:gensim.models.base_any2vec:job loop exiting, total 341 jobs\n",
      "DEBUG:gensim.models.base_any2vec:worker exiting, processed 40 jobs\n",
      "DEBUG:gensim.models.base_any2vec:worker exiting, processed 41 jobs\n",
      "INFO:gensim.models.base_any2vec:worker thread finished; awaiting finish of 7 more threads\n",
      "DEBUG:gensim.models.base_any2vec:worker exiting, processed 44 jobs\n",
      "DEBUG:gensim.models.base_any2vec:worker exiting, processed 42 jobs\n",
      "INFO:gensim.models.base_any2vec:worker thread finished; awaiting finish of 6 more threads\n",
      "DEBUG:gensim.models.base_any2vec:worker exiting, processed 45 jobs\n",
      "DEBUG:gensim.models.base_any2vec:worker exiting, processed 43 jobs\n",
      "DEBUG:gensim.models.base_any2vec:worker exiting, processed 44 jobs\n",
      "INFO:gensim.models.base_any2vec:worker thread finished; awaiting finish of 5 more threads\n"
     ]
    },
    {
     "name": "stdout",
     "output_type": "stream",
     "text": [
      "INFO:gensim.models.base_any2vec:worker thread finished; awaiting finish of 4 more threads\n",
      "INFO:gensim.models.base_any2vec:worker thread finished; awaiting finish of 3 more threads\n",
      "INFO:gensim.models.base_any2vec:worker thread finished; awaiting finish of 2 more threads\n",
      "INFO:gensim.models.base_any2vec:worker thread finished; awaiting finish of 1 more threads\n",
      "DEBUG:gensim.models.base_any2vec:worker exiting, processed 42 jobs\n",
      "INFO:gensim.models.base_any2vec:worker thread finished; awaiting finish of 0 more threads\n",
      "INFO:gensim.models.base_any2vec:EPOCH - 14 : training on 3402500 raw words (2754057 effective words) took 2.9s, 950927 effective words/s\n",
      "INFO:gensim.models.word2vec:reading file data/processed/trigram/documents.txt\n",
      "DEBUG:smart_open.smart_open_lib:{'uri': 'data/processed/trigram/documents.txt', 'mode': 'rb', 'buffering': -1, 'encoding': None, 'errors': None, 'newline': None, 'closefd': True, 'opener': None, 'compression': 'infer_from_extension', 'transport_params': None}\n",
      "INFO:gensim.models.base_any2vec:EPOCH 15 - PROGRESS: at 29.40% examples, 830752 words/s, in_qsize 15, out_qsize 0\n",
      "INFO:gensim.models.base_any2vec:EPOCH 15 - PROGRESS: at 65.27% examples, 897788 words/s, in_qsize 15, out_qsize 0\n",
      "DEBUG:gensim.models.base_any2vec:job loop exiting, total 341 jobs\n",
      "DEBUG:gensim.models.base_any2vec:worker exiting, processed 43 jobs\n",
      "INFO:gensim.models.base_any2vec:worker thread finished; awaiting finish of 7 more threads\n",
      "INFO:gensim.models.base_any2vec:worker thread finished; awaiting finish of 6 more threads\n",
      "INFO:gensim.models.base_any2vec:worker thread finished; awaiting finish of 5 more threads\n",
      "DEBUG:gensim.models.base_any2vec:worker exiting, processed 43 jobs\n",
      "DEBUG:gensim.models.base_any2vec:worker exiting, processed 42 jobs\n",
      "DEBUG:gensim.models.base_any2vec:worker exiting, processed 42 jobs\n",
      "INFO:gensim.models.base_any2vec:worker thread finished; awaiting finish of 4 more threads\n",
      "DEBUG:gensim.models.base_any2vec:worker exiting, processed 41 jobs\n",
      "INFO:gensim.models.base_any2vec:worker thread finished; awaiting finish of 3 more threads\n",
      "DEBUG:gensim.models.base_any2vec:worker exiting, processed 44 jobs\n",
      "INFO:gensim.models.base_any2vec:worker thread finished; awaiting finish of 2 more threads\n",
      "DEBUG:gensim.models.base_any2vec:worker exiting, processed 43 jobs\n",
      "INFO:gensim.models.base_any2vec:worker thread finished; awaiting finish of 1 more threads\n",
      "DEBUG:gensim.models.base_any2vec:worker exiting, processed 43 jobs\n",
      "INFO:gensim.models.base_any2vec:worker thread finished; awaiting finish of 0 more threads\n",
      "INFO:gensim.models.base_any2vec:EPOCH - 15 : training on 3402500 raw words (2753737 effective words) took 3.0s, 918417 effective words/s\n",
      "INFO:gensim.models.word2vec:reading file data/processed/trigram/documents.txt\n",
      "DEBUG:smart_open.smart_open_lib:{'uri': 'data/processed/trigram/documents.txt', 'mode': 'rb', 'buffering': -1, 'encoding': None, 'errors': None, 'newline': None, 'closefd': True, 'opener': None, 'compression': 'infer_from_extension', 'transport_params': None}\n",
      "INFO:gensim.models.base_any2vec:EPOCH 16 - PROGRESS: at 32.72% examples, 910916 words/s, in_qsize 16, out_qsize 0\n",
      "INFO:gensim.models.base_any2vec:EPOCH 16 - PROGRESS: at 67.95% examples, 932695 words/s, in_qsize 16, out_qsize 4\n",
      "DEBUG:gensim.models.base_any2vec:job loop exiting, total 341 jobs\n",
      "DEBUG:gensim.models.base_any2vec:worker exiting, processed 40 jobs\n",
      "INFO:gensim.models.base_any2vec:worker thread finished; awaiting finish of 7 more threads\n",
      "DEBUG:gensim.models.base_any2vec:worker exiting, processed 42 jobs\n",
      "INFO:gensim.models.base_any2vec:worker thread finished; awaiting finish of 6 more threads\n",
      "DEBUG:gensim.models.base_any2vec:worker exiting, processed 43 jobs\n",
      "INFO:gensim.models.base_any2vec:worker thread finished; awaiting finish of 5 more threads\n",
      "DEBUG:gensim.models.base_any2vec:worker exiting, processed 44 jobs\n",
      "INFO:gensim.models.base_any2vec:worker thread finished; awaiting finish of 4 more threads\n",
      "DEBUG:gensim.models.base_any2vec:worker exiting, processed 41 jobs\n",
      "DEBUG:gensim.models.base_any2vec:worker exiting, processed 44 jobs\n",
      "INFO:gensim.models.base_any2vec:worker thread finished; awaiting finish of 3 more threads\n",
      "INFO:gensim.models.base_any2vec:worker thread finished; awaiting finish of 2 more threads\n",
      "DEBUG:gensim.models.base_any2vec:worker exiting, processed 44 jobs\n",
      "INFO:gensim.models.base_any2vec:worker thread finished; awaiting finish of 1 more threads\n",
      "DEBUG:gensim.models.base_any2vec:worker exiting, processed 43 jobs\n",
      "INFO:gensim.models.base_any2vec:worker thread finished; awaiting finish of 0 more threads\n",
      "INFO:gensim.models.base_any2vec:EPOCH - 16 : training on 3402500 raw words (2753932 effective words) took 2.9s, 964872 effective words/s\n",
      "INFO:gensim.models.word2vec:reading file data/processed/trigram/documents.txt\n",
      "DEBUG:smart_open.smart_open_lib:{'uri': 'data/processed/trigram/documents.txt', 'mode': 'rb', 'buffering': -1, 'encoding': None, 'errors': None, 'newline': None, 'closefd': True, 'opener': None, 'compression': 'infer_from_extension', 'transport_params': None}\n",
      "INFO:gensim.models.base_any2vec:EPOCH 17 - PROGRESS: at 31.80% examples, 897548 words/s, in_qsize 14, out_qsize 1\n",
      "INFO:gensim.models.base_any2vec:EPOCH 17 - PROGRESS: at 68.52% examples, 942919 words/s, in_qsize 14, out_qsize 1\n",
      "DEBUG:gensim.models.base_any2vec:job loop exiting, total 341 jobs\n",
      "DEBUG:gensim.models.base_any2vec:worker exiting, processed 42 jobs\n",
      "INFO:gensim.models.base_any2vec:worker thread finished; awaiting finish of 7 more threads\n",
      "DEBUG:gensim.models.base_any2vec:worker exiting, processed 44 jobs\n",
      "DEBUG:gensim.models.base_any2vec:worker exiting, processed 41 jobs\n",
      "INFO:gensim.models.base_any2vec:worker thread finished; awaiting finish of 6 more threads\n",
      "INFO:gensim.models.base_any2vec:worker thread finished; awaiting finish of 5 more threads\n",
      "DEBUG:gensim.models.base_any2vec:worker exiting, processed 42 jobs\n",
      "DEBUG:gensim.models.base_any2vec:worker exiting, processed 41 jobs\n",
      "INFO:gensim.models.base_any2vec:worker thread finished; awaiting finish of 4 more threads\n",
      "DEBUG:gensim.models.base_any2vec:worker exiting, processed 45 jobs\n",
      "INFO:gensim.models.base_any2vec:worker thread finished; awaiting finish of 3 more threads\n",
      "INFO:gensim.models.base_any2vec:worker thread finished; awaiting finish of 2 more threads\n",
      "DEBUG:gensim.models.base_any2vec:worker exiting, processed 43 jobs\n",
      "INFO:gensim.models.base_any2vec:worker thread finished; awaiting finish of 1 more threads\n",
      "DEBUG:gensim.models.base_any2vec:worker exiting, processed 43 jobs\n",
      "INFO:gensim.models.base_any2vec:worker thread finished; awaiting finish of 0 more threads\n",
      "INFO:gensim.models.base_any2vec:EPOCH - 17 : training on 3402500 raw words (2753561 effective words) took 2.8s, 983031 effective words/s\n",
      "INFO:gensim.models.word2vec:reading file data/processed/trigram/documents.txt\n",
      "DEBUG:smart_open.smart_open_lib:{'uri': 'data/processed/trigram/documents.txt', 'mode': 'rb', 'buffering': -1, 'encoding': None, 'errors': None, 'newline': None, 'closefd': True, 'opener': None, 'compression': 'infer_from_extension', 'transport_params': None}\n",
      "INFO:gensim.models.base_any2vec:EPOCH 18 - PROGRESS: at 32.69% examples, 915201 words/s, in_qsize 16, out_qsize 1\n",
      "INFO:gensim.models.base_any2vec:EPOCH 18 - PROGRESS: at 68.83% examples, 940364 words/s, in_qsize 16, out_qsize 2\n",
      "DEBUG:gensim.models.base_any2vec:job loop exiting, total 341 jobs\n",
      "DEBUG:gensim.models.base_any2vec:worker exiting, processed 43 jobs\n",
      "DEBUG:gensim.models.base_any2vec:worker exiting, processed 43 jobs\n",
      "INFO:gensim.models.base_any2vec:worker thread finished; awaiting finish of 7 more threads\n",
      "DEBUG:gensim.models.base_any2vec:worker exiting, processed 44 jobs\n",
      "DEBUG:gensim.models.base_any2vec:worker exiting, processed 41 jobs\n",
      "INFO:gensim.models.base_any2vec:worker thread finished; awaiting finish of 6 more threads\n",
      "DEBUG:gensim.models.base_any2vec:worker exiting, processed 42 jobs\n",
      "INFO:gensim.models.base_any2vec:worker thread finished; awaiting finish of 5 more threads\n",
      "INFO:gensim.models.base_any2vec:worker thread finished; awaiting finish of 4 more threads\n",
      "INFO:gensim.models.base_any2vec:worker thread finished; awaiting finish of 3 more threads\n",
      "DEBUG:gensim.models.base_any2vec:worker exiting, processed 43 jobs\n"
     ]
    },
    {
     "name": "stdout",
     "output_type": "stream",
     "text": [
      "INFO:gensim.models.base_any2vec:worker thread finished; awaiting finish of 2 more threads\n",
      "DEBUG:gensim.models.base_any2vec:worker exiting, processed 42 jobs\n",
      "INFO:gensim.models.base_any2vec:worker thread finished; awaiting finish of 1 more threads\n",
      "DEBUG:gensim.models.base_any2vec:worker exiting, processed 43 jobs\n",
      "INFO:gensim.models.base_any2vec:worker thread finished; awaiting finish of 0 more threads\n",
      "INFO:gensim.models.base_any2vec:EPOCH - 18 : training on 3402500 raw words (2753923 effective words) took 2.9s, 965823 effective words/s\n",
      "INFO:gensim.models.word2vec:reading file data/processed/trigram/documents.txt\n",
      "DEBUG:smart_open.smart_open_lib:{'uri': 'data/processed/trigram/documents.txt', 'mode': 'rb', 'buffering': -1, 'encoding': None, 'errors': None, 'newline': None, 'closefd': True, 'opener': None, 'compression': 'infer_from_extension', 'transport_params': None}\n",
      "INFO:gensim.models.base_any2vec:EPOCH 19 - PROGRESS: at 32.41% examples, 913300 words/s, in_qsize 15, out_qsize 0\n",
      "INFO:gensim.models.base_any2vec:EPOCH 19 - PROGRESS: at 68.22% examples, 938682 words/s, in_qsize 13, out_qsize 2\n",
      "DEBUG:gensim.models.base_any2vec:job loop exiting, total 341 jobs\n",
      "DEBUG:gensim.models.base_any2vec:worker exiting, processed 41 jobs\n",
      "INFO:gensim.models.base_any2vec:worker thread finished; awaiting finish of 7 more threads\n",
      "DEBUG:gensim.models.base_any2vec:worker exiting, processed 43 jobs\n",
      "DEBUG:gensim.models.base_any2vec:worker exiting, processed 42 jobs\n",
      "DEBUG:gensim.models.base_any2vec:worker exiting, processed 42 jobs\n",
      "INFO:gensim.models.base_any2vec:worker thread finished; awaiting finish of 6 more threads\n",
      "INFO:gensim.models.base_any2vec:worker thread finished; awaiting finish of 5 more threads\n",
      "INFO:gensim.models.base_any2vec:worker thread finished; awaiting finish of 4 more threads\n",
      "INFO:gensim.models.base_any2vec:worker thread finished; awaiting finish of 3 more threads\n",
      "DEBUG:gensim.models.base_any2vec:worker exiting, processed 43 jobs\n",
      "DEBUG:gensim.models.base_any2vec:worker exiting, processed 43 jobs\n",
      "INFO:gensim.models.base_any2vec:worker thread finished; awaiting finish of 2 more threads\n",
      "DEBUG:gensim.models.base_any2vec:worker exiting, processed 43 jobs\n",
      "INFO:gensim.models.base_any2vec:worker thread finished; awaiting finish of 1 more threads\n",
      "DEBUG:gensim.models.base_any2vec:worker exiting, processed 44 jobs\n",
      "INFO:gensim.models.base_any2vec:worker thread finished; awaiting finish of 0 more threads\n",
      "INFO:gensim.models.base_any2vec:EPOCH - 19 : training on 3402500 raw words (2753616 effective words) took 2.9s, 953962 effective words/s\n",
      "INFO:gensim.models.word2vec:reading file data/processed/trigram/documents.txt\n",
      "DEBUG:smart_open.smart_open_lib:{'uri': 'data/processed/trigram/documents.txt', 'mode': 'rb', 'buffering': -1, 'encoding': None, 'errors': None, 'newline': None, 'closefd': True, 'opener': None, 'compression': 'infer_from_extension', 'transport_params': None}\n",
      "INFO:gensim.models.base_any2vec:EPOCH 20 - PROGRESS: at 31.69% examples, 895324 words/s, in_qsize 15, out_qsize 0\n",
      "INFO:gensim.models.base_any2vec:EPOCH 20 - PROGRESS: at 67.95% examples, 935210 words/s, in_qsize 15, out_qsize 0\n",
      "DEBUG:gensim.models.base_any2vec:job loop exiting, total 341 jobs\n",
      "DEBUG:gensim.models.base_any2vec:worker exiting, processed 42 jobs\n",
      "INFO:gensim.models.base_any2vec:worker thread finished; awaiting finish of 7 more threads\n",
      "DEBUG:gensim.models.base_any2vec:worker exiting, processed 44 jobs\n",
      "INFO:gensim.models.base_any2vec:worker thread finished; awaiting finish of 6 more threads\n",
      "DEBUG:gensim.models.base_any2vec:worker exiting, processed 42 jobs\n",
      "INFO:gensim.models.base_any2vec:worker thread finished; awaiting finish of 5 more threads\n",
      "DEBUG:gensim.models.base_any2vec:worker exiting, processed 41 jobs\n",
      "INFO:gensim.models.base_any2vec:worker thread finished; awaiting finish of 4 more threads\n",
      "DEBUG:gensim.models.base_any2vec:worker exiting, processed 44 jobs\n",
      "INFO:gensim.models.base_any2vec:worker thread finished; awaiting finish of 3 more threads\n",
      "INFO:gensim.models.base_any2vec:worker thread finished; awaiting finish of 2 more threads\n",
      "DEBUG:gensim.models.base_any2vec:worker exiting, processed 43 jobs\n",
      "DEBUG:gensim.models.base_any2vec:worker exiting, processed 42 jobs\n",
      "INFO:gensim.models.base_any2vec:worker thread finished; awaiting finish of 1 more threads\n",
      "DEBUG:gensim.models.base_any2vec:worker exiting, processed 43 jobs\n",
      "INFO:gensim.models.base_any2vec:worker thread finished; awaiting finish of 0 more threads\n",
      "INFO:gensim.models.base_any2vec:EPOCH - 20 : training on 3402500 raw words (2753512 effective words) took 2.9s, 961143 effective words/s\n",
      "INFO:gensim.models.base_any2vec:training on a 68050000 raw words (55073241 effective words) took 56.0s, 984246 effective words/s\n",
      "INFO:gensim.utils:saving Word2Vec object under models/w2v/w2v.mod, separately None\n",
      "INFO:gensim.utils:not storing attribute vectors_norm\n",
      "INFO:gensim.utils:not storing attribute cum_table\n",
      "DEBUG:smart_open.smart_open_lib:{'uri': 'models/w2v/w2v.mod', 'mode': 'wb', 'buffering': -1, 'encoding': None, 'errors': None, 'newline': None, 'closefd': True, 'opener': None, 'compression': 'infer_from_extension', 'transport_params': None}\n",
      "INFO:gensim.utils:saved models/w2v/w2v.mod\n"
     ]
    }
   ],
   "source": [
    "%run clean_and_train.py"
   ]
  },
  {
   "cell_type": "code",
   "execution_count": 4,
   "id": "cefdb53d",
   "metadata": {},
   "outputs": [
    {
     "name": "stdout",
     "output_type": "stream",
     "text": [
      "Vocab size in the w2v model: 30787\n",
      "Dictionary created. \n",
      "Dictionary deduplicated. \n",
      "Dictionary saved at outputs/dict/expanded_dict.csv\n"
     ]
    }
   ],
   "source": [
    "%run create_dict.py"
   ]
  }
 ],
 "metadata": {
  "kernelspec": {
   "display_name": "Python 3 (ipykernel)",
   "language": "python",
   "name": "python3"
  },
  "language_info": {
   "codemirror_mode": {
    "name": "ipython",
    "version": 3
   },
   "file_extension": ".py",
   "mimetype": "text/x-python",
   "name": "python",
   "nbconvert_exporter": "python",
   "pygments_lexer": "ipython3",
   "version": "3.9.7"
  }
 },
 "nbformat": 4,
 "nbformat_minor": 5
}
